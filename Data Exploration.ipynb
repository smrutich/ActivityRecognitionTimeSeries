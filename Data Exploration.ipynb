{
 "cells": [
  {
   "cell_type": "code",
   "execution_count": 359,
   "id": "51c00cc0",
   "metadata": {},
   "outputs": [],
   "source": [
    "import pandas as pd\n",
    "import numpy as np\n",
    "import matplotlib.pyplot as plt"
   ]
  },
  {
   "cell_type": "markdown",
   "id": "ea38ab29",
   "metadata": {},
   "source": [
    "# Read initial data and analyse the text file"
   ]
  },
  {
   "cell_type": "code",
   "execution_count": 360,
   "id": "16f5fbd2",
   "metadata": {},
   "outputs": [],
   "source": [
    "data =pd.read_csv('./WISDM_ar_v1.1/WISDM_ar_v1.1_raw.txt',header = None,sep=\",\")\n",
    "data.columns = ['id', 'class', 'timestamp', 'x', 'y', 'z']"
   ]
  },
  {
   "cell_type": "code",
   "execution_count": 361,
   "id": "ead8a2ec",
   "metadata": {},
   "outputs": [
    {
     "data": {
      "text/html": [
       "<div>\n",
       "<style scoped>\n",
       "    .dataframe tbody tr th:only-of-type {\n",
       "        vertical-align: middle;\n",
       "    }\n",
       "\n",
       "    .dataframe tbody tr th {\n",
       "        vertical-align: top;\n",
       "    }\n",
       "\n",
       "    .dataframe thead th {\n",
       "        text-align: right;\n",
       "    }\n",
       "</style>\n",
       "<table border=\"1\" class=\"dataframe\">\n",
       "  <thead>\n",
       "    <tr style=\"text-align: right;\">\n",
       "      <th></th>\n",
       "      <th>id</th>\n",
       "      <th>class</th>\n",
       "      <th>timestamp</th>\n",
       "      <th>x</th>\n",
       "      <th>y</th>\n",
       "      <th>z</th>\n",
       "    </tr>\n",
       "  </thead>\n",
       "  <tbody>\n",
       "    <tr>\n",
       "      <th>0</th>\n",
       "      <td>33</td>\n",
       "      <td>Jogging</td>\n",
       "      <td>49105962326000</td>\n",
       "      <td>-0.694638</td>\n",
       "      <td>12.680544</td>\n",
       "      <td>0.503953</td>\n",
       "    </tr>\n",
       "    <tr>\n",
       "      <th>1</th>\n",
       "      <td>33</td>\n",
       "      <td>Jogging</td>\n",
       "      <td>49106062271000</td>\n",
       "      <td>5.012288</td>\n",
       "      <td>11.264028</td>\n",
       "      <td>0.953424</td>\n",
       "    </tr>\n",
       "    <tr>\n",
       "      <th>2</th>\n",
       "      <td>33</td>\n",
       "      <td>Jogging</td>\n",
       "      <td>49106112167000</td>\n",
       "      <td>4.903325</td>\n",
       "      <td>10.882658</td>\n",
       "      <td>-0.081722</td>\n",
       "    </tr>\n",
       "    <tr>\n",
       "      <th>3</th>\n",
       "      <td>33</td>\n",
       "      <td>Jogging</td>\n",
       "      <td>49106222305000</td>\n",
       "      <td>-0.612916</td>\n",
       "      <td>18.496431</td>\n",
       "      <td>3.023717</td>\n",
       "    </tr>\n",
       "    <tr>\n",
       "      <th>4</th>\n",
       "      <td>33</td>\n",
       "      <td>Jogging</td>\n",
       "      <td>49106332290000</td>\n",
       "      <td>-1.184970</td>\n",
       "      <td>12.108489</td>\n",
       "      <td>7.205164</td>\n",
       "    </tr>\n",
       "  </tbody>\n",
       "</table>\n",
       "</div>"
      ],
      "text/plain": [
       "   id    class       timestamp         x          y         z\n",
       "0  33  Jogging  49105962326000 -0.694638  12.680544  0.503953\n",
       "1  33  Jogging  49106062271000  5.012288  11.264028  0.953424\n",
       "2  33  Jogging  49106112167000  4.903325  10.882658 -0.081722\n",
       "3  33  Jogging  49106222305000 -0.612916  18.496431  3.023717\n",
       "4  33  Jogging  49106332290000 -1.184970  12.108489  7.205164"
      ]
     },
     "execution_count": 361,
     "metadata": {},
     "output_type": "execute_result"
    }
   ],
   "source": [
    "data.head()"
   ]
  },
  {
   "cell_type": "markdown",
   "id": "a8bb4a40",
   "metadata": {},
   "source": [
    "### Treat anamolies in text file"
   ]
  },
  {
   "cell_type": "code",
   "execution_count": 362,
   "id": "608fe601",
   "metadata": {},
   "outputs": [
    {
     "data": {
      "text/plain": [
       "(1098209, 6)"
      ]
     },
     "execution_count": 362,
     "metadata": {},
     "output_type": "execute_result"
    }
   ],
   "source": [
    "data.columns\n",
    "type(data)\n",
    "data.shape"
   ]
  },
  {
   "cell_type": "code",
   "execution_count": 363,
   "id": "9ea6dfbf",
   "metadata": {},
   "outputs": [
    {
     "data": {
      "text/html": [
       "<div>\n",
       "<style scoped>\n",
       "    .dataframe tbody tr th:only-of-type {\n",
       "        vertical-align: middle;\n",
       "    }\n",
       "\n",
       "    .dataframe tbody tr th {\n",
       "        vertical-align: top;\n",
       "    }\n",
       "\n",
       "    .dataframe thead th {\n",
       "        text-align: right;\n",
       "    }\n",
       "</style>\n",
       "<table border=\"1\" class=\"dataframe\">\n",
       "  <thead>\n",
       "    <tr style=\"text-align: right;\">\n",
       "      <th></th>\n",
       "      <th>id</th>\n",
       "      <th>class</th>\n",
       "      <th>timestamp</th>\n",
       "      <th>x</th>\n",
       "      <th>y</th>\n",
       "      <th>z</th>\n",
       "    </tr>\n",
       "  </thead>\n",
       "  <tbody>\n",
       "    <tr>\n",
       "      <th>0</th>\n",
       "      <td>33</td>\n",
       "      <td>Jogging</td>\n",
       "      <td>49105962326000</td>\n",
       "      <td>-0.694638</td>\n",
       "      <td>12.680544</td>\n",
       "      <td>0.503953</td>\n",
       "    </tr>\n",
       "    <tr>\n",
       "      <th>1</th>\n",
       "      <td>33</td>\n",
       "      <td>Jogging</td>\n",
       "      <td>49106062271000</td>\n",
       "      <td>5.012288</td>\n",
       "      <td>11.264028</td>\n",
       "      <td>0.953424</td>\n",
       "    </tr>\n",
       "    <tr>\n",
       "      <th>2</th>\n",
       "      <td>33</td>\n",
       "      <td>Jogging</td>\n",
       "      <td>49106112167000</td>\n",
       "      <td>4.903325</td>\n",
       "      <td>10.882658</td>\n",
       "      <td>-0.081722</td>\n",
       "    </tr>\n",
       "    <tr>\n",
       "      <th>3</th>\n",
       "      <td>33</td>\n",
       "      <td>Jogging</td>\n",
       "      <td>49106222305000</td>\n",
       "      <td>-0.612916</td>\n",
       "      <td>18.496431</td>\n",
       "      <td>3.023717</td>\n",
       "    </tr>\n",
       "    <tr>\n",
       "      <th>4</th>\n",
       "      <td>33</td>\n",
       "      <td>Jogging</td>\n",
       "      <td>49106332290000</td>\n",
       "      <td>-1.184970</td>\n",
       "      <td>12.108489</td>\n",
       "      <td>7.205164</td>\n",
       "    </tr>\n",
       "  </tbody>\n",
       "</table>\n",
       "</div>"
      ],
      "text/plain": [
       "   id    class       timestamp         x          y         z\n",
       "0  33  Jogging  49105962326000 -0.694638  12.680544  0.503953\n",
       "1  33  Jogging  49106062271000  5.012288  11.264028  0.953424\n",
       "2  33  Jogging  49106112167000  4.903325  10.882658 -0.081722\n",
       "3  33  Jogging  49106222305000 -0.612916  18.496431  3.023717\n",
       "4  33  Jogging  49106332290000 -1.184970  12.108489  7.205164"
      ]
     },
     "execution_count": 363,
     "metadata": {},
     "output_type": "execute_result"
    }
   ],
   "source": [
    "data.head()"
   ]
  },
  {
   "cell_type": "code",
   "execution_count": 364,
   "id": "54d0e160",
   "metadata": {
    "scrolled": true
   },
   "outputs": [
    {
     "name": "stdout",
     "output_type": "stream",
     "text": [
      "id 0\n",
      "class 6\n",
      "timestamp 0\n",
      "x 0\n",
      "y 0\n",
      "z 0\n"
     ]
    }
   ],
   "source": [
    "for i in data.columns:\n",
    "    print(i,data[i][pd.to_numeric(data[i],errors='coerce').isnull()].nunique())"
   ]
  },
  {
   "cell_type": "code",
   "execution_count": 365,
   "id": "cb8278b1",
   "metadata": {},
   "outputs": [],
   "source": [
    "# what to do with missing data\n",
    "# Yo, is there any missing data??"
   ]
  },
  {
   "cell_type": "code",
   "execution_count": 366,
   "id": "3d80e7f0",
   "metadata": {},
   "outputs": [
    {
     "data": {
      "text/html": [
       "<div>\n",
       "<style scoped>\n",
       "    .dataframe tbody tr th:only-of-type {\n",
       "        vertical-align: middle;\n",
       "    }\n",
       "\n",
       "    .dataframe tbody tr th {\n",
       "        vertical-align: top;\n",
       "    }\n",
       "\n",
       "    .dataframe thead th {\n",
       "        text-align: right;\n",
       "    }\n",
       "</style>\n",
       "<table border=\"1\" class=\"dataframe\">\n",
       "  <thead>\n",
       "    <tr style=\"text-align: right;\">\n",
       "      <th></th>\n",
       "      <th>id</th>\n",
       "      <th>class</th>\n",
       "      <th>timestamp</th>\n",
       "      <th>x</th>\n",
       "      <th>y</th>\n",
       "      <th>z</th>\n",
       "    </tr>\n",
       "  </thead>\n",
       "  <tbody>\n",
       "    <tr>\n",
       "      <th>343419</th>\n",
       "      <td>11</td>\n",
       "      <td>Walking</td>\n",
       "      <td>1867172313000</td>\n",
       "      <td>4.4</td>\n",
       "      <td>4.4</td>\n",
       "      <td>NaN</td>\n",
       "    </tr>\n",
       "  </tbody>\n",
       "</table>\n",
       "</div>"
      ],
      "text/plain": [
       "        id    class      timestamp    x    y   z\n",
       "343419  11  Walking  1867172313000  4.4  4.4 NaN"
      ]
     },
     "execution_count": 366,
     "metadata": {},
     "output_type": "execute_result"
    }
   ],
   "source": [
    "data[pd.to_numeric(data['z'],errors='coerce').isnull()]"
   ]
  },
  {
   "cell_type": "code",
   "execution_count": 367,
   "id": "c4a10b69",
   "metadata": {},
   "outputs": [
    {
     "data": {
      "text/plain": [
       "Int64Index([343419], dtype='int64')"
      ]
     },
     "execution_count": 367,
     "metadata": {},
     "output_type": "execute_result"
    }
   ],
   "source": [
    "idx = data[pd.to_numeric(data['z'],errors='coerce').isnull()].index\n",
    "idx"
   ]
  },
  {
   "cell_type": "code",
   "execution_count": 368,
   "id": "af566aa6",
   "metadata": {},
   "outputs": [
    {
     "name": "stdout",
     "output_type": "stream",
     "text": [
      "343419\n"
     ]
    }
   ],
   "source": [
    "# Should we be dropping?\n",
    "for x in idx:\n",
    "    print(x)\n",
    "    data.drop(x,axis=0,inplace=True)"
   ]
  },
  {
   "cell_type": "code",
   "execution_count": 369,
   "id": "9f42ceed",
   "metadata": {},
   "outputs": [
    {
     "data": {
      "text/plain": [
       "Index(['id', 'class', 'timestamp', 'x', 'y', 'z'], dtype='object')"
      ]
     },
     "execution_count": 369,
     "metadata": {},
     "output_type": "execute_result"
    }
   ],
   "source": [
    "data.columns"
   ]
  },
  {
   "cell_type": "code",
   "execution_count": 370,
   "id": "22ccbee0",
   "metadata": {},
   "outputs": [],
   "source": [
    "data[['timestamp','id']]=data[['timestamp','id']].astype(int)\n",
    "data[[ 'x', 'y', 'z']]=data[[ 'x', 'y', 'z']].astype(float)\n",
    "data[['class']]=data[['class']].astype(str)"
   ]
  },
  {
   "cell_type": "code",
   "execution_count": 371,
   "id": "42c56211",
   "metadata": {},
   "outputs": [
    {
     "data": {
      "text/plain": [
       "id             int64\n",
       "class         object\n",
       "timestamp      int64\n",
       "x            float64\n",
       "y            float64\n",
       "z            float64\n",
       "dtype: object"
      ]
     },
     "execution_count": 371,
     "metadata": {},
     "output_type": "execute_result"
    }
   ],
   "source": [
    "data.dtypes"
   ]
  },
  {
   "cell_type": "code",
   "execution_count": 372,
   "id": "97cd44cf",
   "metadata": {},
   "outputs": [],
   "source": [
    "data.sort_values(['id','timestamp'],inplace=True)"
   ]
  },
  {
   "cell_type": "code",
   "execution_count": 373,
   "id": "0c34f557",
   "metadata": {
    "scrolled": true
   },
   "outputs": [],
   "source": [
    "data.reset_index(drop=True,inplace=True)"
   ]
  },
  {
   "cell_type": "code",
   "execution_count": 374,
   "id": "db9b102e",
   "metadata": {
    "scrolled": true
   },
   "outputs": [
    {
     "data": {
      "text/plain": [
       "class\n",
       "Downstairs     9.144625\n",
       "Jogging       31.157941\n",
       "Sitting        5.457891\n",
       "Standing       4.406724\n",
       "Upstairs      11.188136\n",
       "Walking       38.644683\n",
       "dtype: float64"
      ]
     },
     "execution_count": 374,
     "metadata": {},
     "output_type": "execute_result"
    }
   ],
   "source": [
    "data.groupby('class').size()/data.shape[0]*100"
   ]
  },
  {
   "cell_type": "code",
   "execution_count": 375,
   "id": "a34b8ebb",
   "metadata": {},
   "outputs": [
    {
     "data": {
      "text/plain": [
       "10012532331000"
      ]
     },
     "execution_count": 375,
     "metadata": {},
     "output_type": "execute_result"
    }
   ],
   "source": [
    "data[(data['id']==2)&(data['class']=='Walking')]['timestamp'].max()"
   ]
  },
  {
   "cell_type": "code",
   "execution_count": 376,
   "id": "56f02462",
   "metadata": {},
   "outputs": [
    {
     "data": {
      "text/html": [
       "<div>\n",
       "<style scoped>\n",
       "    .dataframe tbody tr th:only-of-type {\n",
       "        vertical-align: middle;\n",
       "    }\n",
       "\n",
       "    .dataframe tbody tr th {\n",
       "        vertical-align: top;\n",
       "    }\n",
       "\n",
       "    .dataframe thead th {\n",
       "        text-align: right;\n",
       "    }\n",
       "</style>\n",
       "<table border=\"1\" class=\"dataframe\">\n",
       "  <thead>\n",
       "    <tr style=\"text-align: right;\">\n",
       "      <th></th>\n",
       "      <th>id</th>\n",
       "      <th>class</th>\n",
       "      <th>timestamp</th>\n",
       "      <th>x</th>\n",
       "      <th>y</th>\n",
       "      <th>z</th>\n",
       "    </tr>\n",
       "  </thead>\n",
       "  <tbody>\n",
       "    <tr>\n",
       "      <th>47245</th>\n",
       "      <td>2</td>\n",
       "      <td>Walking</td>\n",
       "      <td>10012532331000</td>\n",
       "      <td>-2.96</td>\n",
       "      <td>7.31</td>\n",
       "      <td>-4.40</td>\n",
       "    </tr>\n",
       "    <tr>\n",
       "      <th>47246</th>\n",
       "      <td>2</td>\n",
       "      <td>Jogging</td>\n",
       "      <td>10065442335000</td>\n",
       "      <td>-4.71</td>\n",
       "      <td>2.18</td>\n",
       "      <td>3.68</td>\n",
       "    </tr>\n",
       "    <tr>\n",
       "      <th>47247</th>\n",
       "      <td>2</td>\n",
       "      <td>Jogging</td>\n",
       "      <td>10065492322000</td>\n",
       "      <td>-9.89</td>\n",
       "      <td>6.89</td>\n",
       "      <td>2.68</td>\n",
       "    </tr>\n",
       "    <tr>\n",
       "      <th>47248</th>\n",
       "      <td>2</td>\n",
       "      <td>Jogging</td>\n",
       "      <td>10065542341000</td>\n",
       "      <td>-9.66</td>\n",
       "      <td>11.54</td>\n",
       "      <td>2.11</td>\n",
       "    </tr>\n",
       "    <tr>\n",
       "      <th>47249</th>\n",
       "      <td>2</td>\n",
       "      <td>Jogging</td>\n",
       "      <td>10065592328000</td>\n",
       "      <td>-8.08</td>\n",
       "      <td>9.28</td>\n",
       "      <td>4.52</td>\n",
       "    </tr>\n",
       "    <tr>\n",
       "      <th>...</th>\n",
       "      <td>...</td>\n",
       "      <td>...</td>\n",
       "      <td>...</td>\n",
       "      <td>...</td>\n",
       "      <td>...</td>\n",
       "      <td>...</td>\n",
       "    </tr>\n",
       "    <tr>\n",
       "      <th>53498</th>\n",
       "      <td>2</td>\n",
       "      <td>Jogging</td>\n",
       "      <td>10378042341000</td>\n",
       "      <td>-12.18</td>\n",
       "      <td>3.30</td>\n",
       "      <td>0.34</td>\n",
       "    </tr>\n",
       "    <tr>\n",
       "      <th>53499</th>\n",
       "      <td>2</td>\n",
       "      <td>Jogging</td>\n",
       "      <td>10378092298000</td>\n",
       "      <td>-11.03</td>\n",
       "      <td>3.26</td>\n",
       "      <td>-5.86</td>\n",
       "    </tr>\n",
       "    <tr>\n",
       "      <th>53500</th>\n",
       "      <td>2</td>\n",
       "      <td>Jogging</td>\n",
       "      <td>10378142347000</td>\n",
       "      <td>-10.34</td>\n",
       "      <td>7.50</td>\n",
       "      <td>-6.09</td>\n",
       "    </tr>\n",
       "    <tr>\n",
       "      <th>53501</th>\n",
       "      <td>2</td>\n",
       "      <td>Jogging</td>\n",
       "      <td>10378192335000</td>\n",
       "      <td>-8.35</td>\n",
       "      <td>5.48</td>\n",
       "      <td>-2.41</td>\n",
       "    </tr>\n",
       "    <tr>\n",
       "      <th>53502</th>\n",
       "      <td>2</td>\n",
       "      <td>Jogging</td>\n",
       "      <td>10378242322000</td>\n",
       "      <td>-6.17</td>\n",
       "      <td>0.27</td>\n",
       "      <td>-2.83</td>\n",
       "    </tr>\n",
       "  </tbody>\n",
       "</table>\n",
       "<p>6258 rows × 6 columns</p>\n",
       "</div>"
      ],
      "text/plain": [
       "       id    class       timestamp      x      y     z\n",
       "47245   2  Walking  10012532331000  -2.96   7.31 -4.40\n",
       "47246   2  Jogging  10065442335000  -4.71   2.18  3.68\n",
       "47247   2  Jogging  10065492322000  -9.89   6.89  2.68\n",
       "47248   2  Jogging  10065542341000  -9.66  11.54  2.11\n",
       "47249   2  Jogging  10065592328000  -8.08   9.28  4.52\n",
       "...    ..      ...             ...    ...    ...   ...\n",
       "53498   2  Jogging  10378042341000 -12.18   3.30  0.34\n",
       "53499   2  Jogging  10378092298000 -11.03   3.26 -5.86\n",
       "53500   2  Jogging  10378142347000 -10.34   7.50 -6.09\n",
       "53501   2  Jogging  10378192335000  -8.35   5.48 -2.41\n",
       "53502   2  Jogging  10378242322000  -6.17   0.27 -2.83\n",
       "\n",
       "[6258 rows x 6 columns]"
      ]
     },
     "execution_count": 376,
     "metadata": {},
     "output_type": "execute_result"
    }
   ],
   "source": [
    "data[(data['id']==2)&(data['timestamp']>=10012532331000)]"
   ]
  },
  {
   "cell_type": "code",
   "execution_count": 377,
   "id": "9308dde1",
   "metadata": {},
   "outputs": [
    {
     "data": {
      "text/html": [
       "<div>\n",
       "<style scoped>\n",
       "    .dataframe tbody tr th:only-of-type {\n",
       "        vertical-align: middle;\n",
       "    }\n",
       "\n",
       "    .dataframe tbody tr th {\n",
       "        vertical-align: top;\n",
       "    }\n",
       "\n",
       "    .dataframe thead th {\n",
       "        text-align: right;\n",
       "    }\n",
       "</style>\n",
       "<table border=\"1\" class=\"dataframe\">\n",
       "  <thead>\n",
       "    <tr style=\"text-align: right;\">\n",
       "      <th></th>\n",
       "      <th>id</th>\n",
       "      <th>class</th>\n",
       "      <th>timestamp</th>\n",
       "      <th>x</th>\n",
       "      <th>y</th>\n",
       "      <th>z</th>\n",
       "    </tr>\n",
       "  </thead>\n",
       "  <tbody>\n",
       "    <tr>\n",
       "      <th>17855</th>\n",
       "      <td>1</td>\n",
       "      <td>Walking</td>\n",
       "      <td>5974702314000</td>\n",
       "      <td>-2.87</td>\n",
       "      <td>6.55</td>\n",
       "      <td>-0.04</td>\n",
       "    </tr>\n",
       "    <tr>\n",
       "      <th>17856</th>\n",
       "      <td>1</td>\n",
       "      <td>Walking</td>\n",
       "      <td>5974702314000</td>\n",
       "      <td>-2.87</td>\n",
       "      <td>6.55</td>\n",
       "      <td>-0.04</td>\n",
       "    </tr>\n",
       "    <tr>\n",
       "      <th>17857</th>\n",
       "      <td>1</td>\n",
       "      <td>Walking</td>\n",
       "      <td>5974772290000</td>\n",
       "      <td>0.61</td>\n",
       "      <td>19.46</td>\n",
       "      <td>12.22</td>\n",
       "    </tr>\n",
       "    <tr>\n",
       "      <th>17858</th>\n",
       "      <td>1</td>\n",
       "      <td>Walking</td>\n",
       "      <td>5974822278000</td>\n",
       "      <td>-1.31</td>\n",
       "      <td>12.07</td>\n",
       "      <td>-0.46</td>\n",
       "    </tr>\n",
       "    <tr>\n",
       "      <th>17859</th>\n",
       "      <td>1</td>\n",
       "      <td>Walking</td>\n",
       "      <td>5974872327000</td>\n",
       "      <td>-1.18</td>\n",
       "      <td>12.95</td>\n",
       "      <td>1.18</td>\n",
       "    </tr>\n",
       "    <tr>\n",
       "      <th>17860</th>\n",
       "      <td>1</td>\n",
       "      <td>Jogging</td>\n",
       "      <td>5995682355000</td>\n",
       "      <td>10.04</td>\n",
       "      <td>5.67</td>\n",
       "      <td>1.76</td>\n",
       "    </tr>\n",
       "    <tr>\n",
       "      <th>17861</th>\n",
       "      <td>1</td>\n",
       "      <td>Jogging</td>\n",
       "      <td>5995732343000</td>\n",
       "      <td>5.28</td>\n",
       "      <td>8.35</td>\n",
       "      <td>1.31</td>\n",
       "    </tr>\n",
       "    <tr>\n",
       "      <th>17862</th>\n",
       "      <td>1</td>\n",
       "      <td>Jogging</td>\n",
       "      <td>5995782331000</td>\n",
       "      <td>6.59</td>\n",
       "      <td>9.28</td>\n",
       "      <td>5.52</td>\n",
       "    </tr>\n",
       "    <tr>\n",
       "      <th>17863</th>\n",
       "      <td>1</td>\n",
       "      <td>Jogging</td>\n",
       "      <td>5995832349000</td>\n",
       "      <td>3.72</td>\n",
       "      <td>7.35</td>\n",
       "      <td>5.28</td>\n",
       "    </tr>\n",
       "    <tr>\n",
       "      <th>17864</th>\n",
       "      <td>1</td>\n",
       "      <td>Jogging</td>\n",
       "      <td>5995882337000</td>\n",
       "      <td>10.53</td>\n",
       "      <td>10.99</td>\n",
       "      <td>3.30</td>\n",
       "    </tr>\n",
       "  </tbody>\n",
       "</table>\n",
       "</div>"
      ],
      "text/plain": [
       "       id    class      timestamp      x      y      z\n",
       "17855   1  Walking  5974702314000  -2.87   6.55  -0.04\n",
       "17856   1  Walking  5974702314000  -2.87   6.55  -0.04\n",
       "17857   1  Walking  5974772290000   0.61  19.46  12.22\n",
       "17858   1  Walking  5974822278000  -1.31  12.07  -0.46\n",
       "17859   1  Walking  5974872327000  -1.18  12.95   1.18\n",
       "17860   1  Jogging  5995682355000  10.04   5.67   1.76\n",
       "17861   1  Jogging  5995732343000   5.28   8.35   1.31\n",
       "17862   1  Jogging  5995782331000   6.59   9.28   5.52\n",
       "17863   1  Jogging  5995832349000   3.72   7.35   5.28\n",
       "17864   1  Jogging  5995882337000  10.53  10.99   3.30"
      ]
     },
     "execution_count": 377,
     "metadata": {},
     "output_type": "execute_result"
    }
   ],
   "source": [
    "data.iloc[17855:17865]"
   ]
  },
  {
   "cell_type": "markdown",
   "id": "1748cd32",
   "metadata": {},
   "source": [
    "##### Sampling rate: \n",
    "20Hz (1 sample every 50ms)\n",
    "\n",
    "* 10 sec - 200 records\n",
    "* 12 sec - 240 records \n",
    "* 20 sec - 400 records"
   ]
  },
  {
   "cell_type": "code",
   "execution_count": 378,
   "id": "b611359a",
   "metadata": {},
   "outputs": [],
   "source": [
    "# 1000/50 "
   ]
  },
  {
   "cell_type": "code",
   "execution_count": 379,
   "id": "97deb887",
   "metadata": {
    "scrolled": true
   },
   "outputs": [
    {
     "data": {
      "text/html": [
       "<div>\n",
       "<style scoped>\n",
       "    .dataframe tbody tr th:only-of-type {\n",
       "        vertical-align: middle;\n",
       "    }\n",
       "\n",
       "    .dataframe tbody tr th {\n",
       "        vertical-align: top;\n",
       "    }\n",
       "\n",
       "    .dataframe thead th {\n",
       "        text-align: right;\n",
       "    }\n",
       "</style>\n",
       "<table border=\"1\" class=\"dataframe\">\n",
       "  <thead>\n",
       "    <tr style=\"text-align: right;\">\n",
       "      <th></th>\n",
       "      <th>id</th>\n",
       "      <th>timestamp</th>\n",
       "      <th>x</th>\n",
       "      <th>y</th>\n",
       "      <th>z</th>\n",
       "    </tr>\n",
       "  </thead>\n",
       "  <tbody>\n",
       "    <tr>\n",
       "      <th>count</th>\n",
       "      <td>1.098208e+06</td>\n",
       "      <td>1.098208e+06</td>\n",
       "      <td>1.098208e+06</td>\n",
       "      <td>1.098208e+06</td>\n",
       "      <td>1.098208e+06</td>\n",
       "    </tr>\n",
       "    <tr>\n",
       "      <th>mean</th>\n",
       "      <td>1.886067e+01</td>\n",
       "      <td>3.340895e+13</td>\n",
       "      <td>6.628660e-01</td>\n",
       "      <td>7.255626e+00</td>\n",
       "      <td>4.110784e-01</td>\n",
       "    </tr>\n",
       "    <tr>\n",
       "      <th>std</th>\n",
       "      <td>1.021423e+01</td>\n",
       "      <td>4.944962e+13</td>\n",
       "      <td>6.849046e+00</td>\n",
       "      <td>6.746216e+00</td>\n",
       "      <td>4.754120e+00</td>\n",
       "    </tr>\n",
       "    <tr>\n",
       "      <th>min</th>\n",
       "      <td>1.000000e+00</td>\n",
       "      <td>0.000000e+00</td>\n",
       "      <td>-1.961000e+01</td>\n",
       "      <td>-1.961000e+01</td>\n",
       "      <td>-1.980000e+01</td>\n",
       "    </tr>\n",
       "    <tr>\n",
       "      <th>25%</th>\n",
       "      <td>1.000000e+01</td>\n",
       "      <td>2.019110e+12</td>\n",
       "      <td>-2.870000e+00</td>\n",
       "      <td>3.170000e+00</td>\n",
       "      <td>-2.220000e+00</td>\n",
       "    </tr>\n",
       "    <tr>\n",
       "      <th>50%</th>\n",
       "      <td>1.900000e+01</td>\n",
       "      <td>9.722677e+12</td>\n",
       "      <td>2.700000e-01</td>\n",
       "      <td>7.930000e+00</td>\n",
       "      <td>0.000000e+00</td>\n",
       "    </tr>\n",
       "    <tr>\n",
       "      <th>75%</th>\n",
       "      <td>2.800000e+01</td>\n",
       "      <td>4.996560e+13</td>\n",
       "      <td>4.440000e+00</td>\n",
       "      <td>1.156000e+01</td>\n",
       "      <td>2.720000e+00</td>\n",
       "    </tr>\n",
       "    <tr>\n",
       "      <th>max</th>\n",
       "      <td>3.600000e+01</td>\n",
       "      <td>2.093974e+14</td>\n",
       "      <td>1.995000e+01</td>\n",
       "      <td>2.004000e+01</td>\n",
       "      <td>1.961000e+01</td>\n",
       "    </tr>\n",
       "  </tbody>\n",
       "</table>\n",
       "</div>"
      ],
      "text/plain": [
       "                 id     timestamp             x             y             z\n",
       "count  1.098208e+06  1.098208e+06  1.098208e+06  1.098208e+06  1.098208e+06\n",
       "mean   1.886067e+01  3.340895e+13  6.628660e-01  7.255626e+00  4.110784e-01\n",
       "std    1.021423e+01  4.944962e+13  6.849046e+00  6.746216e+00  4.754120e+00\n",
       "min    1.000000e+00  0.000000e+00 -1.961000e+01 -1.961000e+01 -1.980000e+01\n",
       "25%    1.000000e+01  2.019110e+12 -2.870000e+00  3.170000e+00 -2.220000e+00\n",
       "50%    1.900000e+01  9.722677e+12  2.700000e-01  7.930000e+00  0.000000e+00\n",
       "75%    2.800000e+01  4.996560e+13  4.440000e+00  1.156000e+01  2.720000e+00\n",
       "max    3.600000e+01  2.093974e+14  1.995000e+01  2.004000e+01  1.961000e+01"
      ]
     },
     "execution_count": 379,
     "metadata": {},
     "output_type": "execute_result"
    }
   ],
   "source": [
    "data.describe()"
   ]
  },
  {
   "cell_type": "code",
   "execution_count": 380,
   "id": "0d10ec0d",
   "metadata": {
    "scrolled": true
   },
   "outputs": [
    {
     "data": {
      "text/plain": [
       "0                 NaN\n",
       "1                 NaN\n",
       "2          49988000.0\n",
       "3          50018000.0\n",
       "4          49988000.0\n",
       "              ...    \n",
       "1098203    49987000.0\n",
       "1098204    49988000.0\n",
       "1098205    50018000.0\n",
       "1098206    50019000.0\n",
       "1098207    49988000.0\n",
       "Name: timestamp, Length: 1098208, dtype: float64"
      ]
     },
     "execution_count": 380,
     "metadata": {},
     "output_type": "execute_result"
    }
   ],
   "source": [
    "data.groupby('id')['timestamp'].shift(periods=1).diff()"
   ]
  },
  {
   "cell_type": "code",
   "execution_count": 381,
   "id": "106001b0",
   "metadata": {},
   "outputs": [
    {
     "data": {
      "text/plain": [
       "datetime.datetime(2128, 3, 9, 16, 5, 45)"
      ]
     },
     "execution_count": 381,
     "metadata": {},
     "output_type": "execute_result"
    }
   ],
   "source": [
    "from datetime import datetime\n",
    "\n",
    "timestamp = 4991922345\n",
    "datetime.fromtimestamp(timestamp)"
   ]
  },
  {
   "cell_type": "code",
   "execution_count": 382,
   "id": "8bce9fa8",
   "metadata": {},
   "outputs": [
    {
     "data": {
      "text/plain": [
       "1638511177.749218"
      ]
     },
     "execution_count": 382,
     "metadata": {},
     "output_type": "execute_result"
    }
   ],
   "source": [
    "datetime.timestamp(datetime.now())"
   ]
  },
  {
   "cell_type": "code",
   "execution_count": 383,
   "id": "e4da5473",
   "metadata": {},
   "outputs": [
    {
     "data": {
      "text/plain": [
       "4991922345000"
      ]
     },
     "execution_count": 383,
     "metadata": {},
     "output_type": "execute_result"
    }
   ],
   "source": [
    "data.timestamp[0]"
   ]
  },
  {
   "cell_type": "code",
   "execution_count": 384,
   "id": "15761054",
   "metadata": {
    "scrolled": true
   },
   "outputs": [
    {
     "data": {
      "text/plain": [
       "9950013000"
      ]
     },
     "execution_count": 384,
     "metadata": {},
     "output_type": "execute_result"
    }
   ],
   "source": [
    "(data[:200].timestamp.max()-data[:200].timestamp.min())"
   ]
  },
  {
   "cell_type": "code",
   "execution_count": 385,
   "id": "1f9e73ad",
   "metadata": {},
   "outputs": [
    {
     "data": {
      "text/html": [
       "<div>\n",
       "<style scoped>\n",
       "    .dataframe tbody tr th:only-of-type {\n",
       "        vertical-align: middle;\n",
       "    }\n",
       "\n",
       "    .dataframe tbody tr th {\n",
       "        vertical-align: top;\n",
       "    }\n",
       "\n",
       "    .dataframe thead th {\n",
       "        text-align: right;\n",
       "    }\n",
       "</style>\n",
       "<table border=\"1\" class=\"dataframe\">\n",
       "  <thead>\n",
       "    <tr style=\"text-align: right;\">\n",
       "      <th></th>\n",
       "      <th>id</th>\n",
       "      <th>class</th>\n",
       "      <th>timestamp</th>\n",
       "      <th>x</th>\n",
       "      <th>y</th>\n",
       "      <th>z</th>\n",
       "    </tr>\n",
       "  </thead>\n",
       "  <tbody>\n",
       "    <tr>\n",
       "      <th>0</th>\n",
       "      <td>1</td>\n",
       "      <td>Walking</td>\n",
       "      <td>4991922345000</td>\n",
       "      <td>0.69</td>\n",
       "      <td>10.80</td>\n",
       "      <td>-2.030000</td>\n",
       "    </tr>\n",
       "    <tr>\n",
       "      <th>1</th>\n",
       "      <td>1</td>\n",
       "      <td>Walking</td>\n",
       "      <td>4991972333000</td>\n",
       "      <td>6.85</td>\n",
       "      <td>7.44</td>\n",
       "      <td>-0.500000</td>\n",
       "    </tr>\n",
       "    <tr>\n",
       "      <th>2</th>\n",
       "      <td>1</td>\n",
       "      <td>Walking</td>\n",
       "      <td>4992022351000</td>\n",
       "      <td>0.93</td>\n",
       "      <td>5.63</td>\n",
       "      <td>-0.500000</td>\n",
       "    </tr>\n",
       "    <tr>\n",
       "      <th>3</th>\n",
       "      <td>1</td>\n",
       "      <td>Walking</td>\n",
       "      <td>4992072339000</td>\n",
       "      <td>-2.11</td>\n",
       "      <td>5.01</td>\n",
       "      <td>-0.690000</td>\n",
       "    </tr>\n",
       "    <tr>\n",
       "      <th>4</th>\n",
       "      <td>1</td>\n",
       "      <td>Walking</td>\n",
       "      <td>4992122358000</td>\n",
       "      <td>-4.59</td>\n",
       "      <td>4.29</td>\n",
       "      <td>-1.950000</td>\n",
       "    </tr>\n",
       "    <tr>\n",
       "      <th>...</th>\n",
       "      <td>...</td>\n",
       "      <td>...</td>\n",
       "      <td>...</td>\n",
       "      <td>...</td>\n",
       "      <td>...</td>\n",
       "      <td>...</td>\n",
       "    </tr>\n",
       "    <tr>\n",
       "      <th>1098203</th>\n",
       "      <td>36</td>\n",
       "      <td>Standing</td>\n",
       "      <td>15049012250000</td>\n",
       "      <td>-0.91</td>\n",
       "      <td>9.43</td>\n",
       "      <td>2.533385</td>\n",
       "    </tr>\n",
       "    <tr>\n",
       "      <th>1098204</th>\n",
       "      <td>36</td>\n",
       "      <td>Standing</td>\n",
       "      <td>15049062268000</td>\n",
       "      <td>-1.18</td>\n",
       "      <td>9.51</td>\n",
       "      <td>2.492524</td>\n",
       "    </tr>\n",
       "    <tr>\n",
       "      <th>1098205</th>\n",
       "      <td>36</td>\n",
       "      <td>Standing</td>\n",
       "      <td>15049112287000</td>\n",
       "      <td>-1.50</td>\n",
       "      <td>9.53</td>\n",
       "      <td>2.533385</td>\n",
       "    </tr>\n",
       "    <tr>\n",
       "      <th>1098206</th>\n",
       "      <td>36</td>\n",
       "      <td>Standing</td>\n",
       "      <td>15049162275000</td>\n",
       "      <td>-2.07</td>\n",
       "      <td>8.77</td>\n",
       "      <td>2.179256</td>\n",
       "    </tr>\n",
       "    <tr>\n",
       "      <th>1098207</th>\n",
       "      <td>36</td>\n",
       "      <td>Standing</td>\n",
       "      <td>15049212262000</td>\n",
       "      <td>-2.14</td>\n",
       "      <td>9.89</td>\n",
       "      <td>3.255263</td>\n",
       "    </tr>\n",
       "  </tbody>\n",
       "</table>\n",
       "<p>1098208 rows × 6 columns</p>\n",
       "</div>"
      ],
      "text/plain": [
       "         id     class       timestamp     x      y         z\n",
       "0         1   Walking   4991922345000  0.69  10.80 -2.030000\n",
       "1         1   Walking   4991972333000  6.85   7.44 -0.500000\n",
       "2         1   Walking   4992022351000  0.93   5.63 -0.500000\n",
       "3         1   Walking   4992072339000 -2.11   5.01 -0.690000\n",
       "4         1   Walking   4992122358000 -4.59   4.29 -1.950000\n",
       "...      ..       ...             ...   ...    ...       ...\n",
       "1098203  36  Standing  15049012250000 -0.91   9.43  2.533385\n",
       "1098204  36  Standing  15049062268000 -1.18   9.51  2.492524\n",
       "1098205  36  Standing  15049112287000 -1.50   9.53  2.533385\n",
       "1098206  36  Standing  15049162275000 -2.07   8.77  2.179256\n",
       "1098207  36  Standing  15049212262000 -2.14   9.89  3.255263\n",
       "\n",
       "[1098208 rows x 6 columns]"
      ]
     },
     "execution_count": 385,
     "metadata": {},
     "output_type": "execute_result"
    }
   ],
   "source": [
    "data"
   ]
  },
  {
   "cell_type": "code",
   "execution_count": 386,
   "id": "e1c8b979",
   "metadata": {
    "scrolled": true
   },
   "outputs": [
    {
     "data": {
      "image/png": "[encoded data removed]",
      "text/plain": [
       "<Figure size 864x504 with 3 Axes>"
      ]
     },
     "metadata": {
      "needs_background": "light"
     },
     "output_type": "display_data"
    },
    {
     "data": {
      "image/png": "[encoded data removed]",
      "text/plain": [
       "<Figure size 864x504 with 3 Axes>"
      ]
     },
     "metadata": {
      "needs_background": "light"
     },
     "output_type": "display_data"
    },
    {
     "data": {
      "image/png": "[encoded data removed]",
      "text/plain": [
       "<Figure size 864x504 with 3 Axes>"
      ]
     },
     "metadata": {
      "needs_background": "light"
     },
     "output_type": "display_data"
    },
    {
     "data": {
      "image/png": "[encoded data removed]",
      "text/plain": [
       "<Figure size 864x504 with 3 Axes>"
      ]
     },
     "metadata": {
      "needs_background": "light"
     },
     "output_type": "display_data"
    },
    {
     "data": {
      "image/png": "[encoded data removed]",
      "text/plain": [
       "<Figure size 864x504 with 3 Axes>"
      ]
     },
     "metadata": {
      "needs_background": "light"
     },
     "output_type": "display_data"
    },
    {
     "data": {
      "image/png": "[encoded data removed]",
      "text/plain": [
       "<Figure size 864x504 with 3 Axes>"
      ]
     },
     "metadata": {
      "needs_background": "light"
     },
     "output_type": "display_data"
    }
   ],
   "source": [
    "seconds = 20\n",
    "def plot_activity(activity, data):\n",
    "    fig, (ax0, ax1, ax2) = plt.subplots(nrows=3, figsize=(12, 7))\n",
    "    plot_axis(ax0, data['timestamp'], data['x'], 'X-Axis')\n",
    "    plot_axis(ax1, data['timestamp'], data['y'], 'Y-Axis')\n",
    "    plot_axis(ax2, data['timestamp'], data['z'], 'Z-Axis')\n",
    "    plt.subplots_adjust(hspace=0.2)\n",
    "    fig.suptitle(activity)\n",
    "    plt.subplots_adjust(top=0.90)\n",
    "    plt.show()\n",
    "def plot_axis(ax, x, y, title):\n",
    "    ax.plot(x, y, 'r')\n",
    "    ax.set_title(title)\n",
    "    ax.xaxis.set_visible(False)\n",
    "    ax.set_ylim([min(y) - np.std(y), max(y) + np.std(y)])\n",
    "    ax.set_xlim([min(x), max(x)])\n",
    "    ax.grid(True)\n",
    "for c in data['class'].unique():\n",
    "    plot_activity(c, data[(data['id']==31)&(data['class'] == c)][:seconds*12])"
   ]
  },
  {
   "cell_type": "code",
   "execution_count": 387,
   "id": "7a0b2d24",
   "metadata": {},
   "outputs": [
    {
     "data": {
      "text/html": [
       "<div>\n",
       "<style scoped>\n",
       "    .dataframe tbody tr th:only-of-type {\n",
       "        vertical-align: middle;\n",
       "    }\n",
       "\n",
       "    .dataframe tbody tr th {\n",
       "        vertical-align: top;\n",
       "    }\n",
       "\n",
       "    .dataframe thead th {\n",
       "        text-align: right;\n",
       "    }\n",
       "</style>\n",
       "<table border=\"1\" class=\"dataframe\">\n",
       "  <thead>\n",
       "    <tr style=\"text-align: right;\">\n",
       "      <th></th>\n",
       "      <th>count</th>\n",
       "      <th>mean</th>\n",
       "      <th>std</th>\n",
       "      <th>min</th>\n",
       "      <th>25%</th>\n",
       "      <th>50%</th>\n",
       "      <th>75%</th>\n",
       "      <th>max</th>\n",
       "    </tr>\n",
       "    <tr>\n",
       "      <th>class</th>\n",
       "      <th></th>\n",
       "      <th></th>\n",
       "      <th></th>\n",
       "      <th></th>\n",
       "      <th></th>\n",
       "      <th></th>\n",
       "      <th></th>\n",
       "      <th></th>\n",
       "    </tr>\n",
       "  </thead>\n",
       "  <tbody>\n",
       "    <tr>\n",
       "      <th>Downstairs</th>\n",
       "      <td>100427.0</td>\n",
       "      <td>0.471718</td>\n",
       "      <td>4.955948</td>\n",
       "      <td>-19.61</td>\n",
       "      <td>-2.18</td>\n",
       "      <td>0.08</td>\n",
       "      <td>2.83</td>\n",
       "      <td>19.95</td>\n",
       "    </tr>\n",
       "    <tr>\n",
       "      <th>Jogging</th>\n",
       "      <td>342179.0</td>\n",
       "      <td>-0.201963</td>\n",
       "      <td>9.109470</td>\n",
       "      <td>-19.61</td>\n",
       "      <td>-5.43</td>\n",
       "      <td>0.00</td>\n",
       "      <td>5.18</td>\n",
       "      <td>19.95</td>\n",
       "    </tr>\n",
       "    <tr>\n",
       "      <th>Sitting</th>\n",
       "      <td>59939.0</td>\n",
       "      <td>1.856270</td>\n",
       "      <td>4.759028</td>\n",
       "      <td>-10.31</td>\n",
       "      <td>-1.61</td>\n",
       "      <td>1.53</td>\n",
       "      <td>5.75</td>\n",
       "      <td>12.45</td>\n",
       "    </tr>\n",
       "    <tr>\n",
       "      <th>Standing</th>\n",
       "      <td>48395.0</td>\n",
       "      <td>-1.178258</td>\n",
       "      <td>3.235125</td>\n",
       "      <td>-10.99</td>\n",
       "      <td>-2.03</td>\n",
       "      <td>-1.12</td>\n",
       "      <td>0.61</td>\n",
       "      <td>13.10</td>\n",
       "    </tr>\n",
       "    <tr>\n",
       "      <th>Upstairs</th>\n",
       "      <td>122869.0</td>\n",
       "      <td>0.381334</td>\n",
       "      <td>5.495272</td>\n",
       "      <td>-19.61</td>\n",
       "      <td>-2.26</td>\n",
       "      <td>0.15</td>\n",
       "      <td>3.06</td>\n",
       "      <td>19.95</td>\n",
       "    </tr>\n",
       "    <tr>\n",
       "      <th>Walking</th>\n",
       "      <td>424399.0</td>\n",
       "      <td>1.528288</td>\n",
       "      <td>5.793331</td>\n",
       "      <td>-19.61</td>\n",
       "      <td>-2.15</td>\n",
       "      <td>0.95</td>\n",
       "      <td>4.82</td>\n",
       "      <td>19.91</td>\n",
       "    </tr>\n",
       "  </tbody>\n",
       "</table>\n",
       "</div>"
      ],
      "text/plain": [
       "               count      mean       std    min   25%   50%   75%    max\n",
       "class                                                                   \n",
       "Downstairs  100427.0  0.471718  4.955948 -19.61 -2.18  0.08  2.83  19.95\n",
       "Jogging     342179.0 -0.201963  9.109470 -19.61 -5.43  0.00  5.18  19.95\n",
       "Sitting      59939.0  1.856270  4.759028 -10.31 -1.61  1.53  5.75  12.45\n",
       "Standing     48395.0 -1.178258  3.235125 -10.99 -2.03 -1.12  0.61  13.10\n",
       "Upstairs    122869.0  0.381334  5.495272 -19.61 -2.26  0.15  3.06  19.95\n",
       "Walking     424399.0  1.528288  5.793331 -19.61 -2.15  0.95  4.82  19.91"
      ]
     },
     "execution_count": 387,
     "metadata": {},
     "output_type": "execute_result"
    }
   ],
   "source": [
    "data.groupby('class')['x'].describe()"
   ]
  },
  {
   "cell_type": "code",
   "execution_count": 388,
   "id": "8b262989",
   "metadata": {},
   "outputs": [
    {
     "data": {
      "text/html": [
       "<div>\n",
       "<style scoped>\n",
       "    .dataframe tbody tr th:only-of-type {\n",
       "        vertical-align: middle;\n",
       "    }\n",
       "\n",
       "    .dataframe tbody tr th {\n",
       "        vertical-align: top;\n",
       "    }\n",
       "\n",
       "    .dataframe thead th {\n",
       "        text-align: right;\n",
       "    }\n",
       "</style>\n",
       "<table border=\"1\" class=\"dataframe\">\n",
       "  <thead>\n",
       "    <tr style=\"text-align: right;\">\n",
       "      <th></th>\n",
       "      <th>count</th>\n",
       "      <th>mean</th>\n",
       "      <th>std</th>\n",
       "      <th>min</th>\n",
       "      <th>25%</th>\n",
       "      <th>50%</th>\n",
       "      <th>75%</th>\n",
       "      <th>max</th>\n",
       "    </tr>\n",
       "    <tr>\n",
       "      <th>class</th>\n",
       "      <th></th>\n",
       "      <th></th>\n",
       "      <th></th>\n",
       "      <th></th>\n",
       "      <th></th>\n",
       "      <th></th>\n",
       "      <th></th>\n",
       "      <th></th>\n",
       "    </tr>\n",
       "  </thead>\n",
       "  <tbody>\n",
       "    <tr>\n",
       "      <th>Downstairs</th>\n",
       "      <td>100427.0</td>\n",
       "      <td>8.600230</td>\n",
       "      <td>4.904716</td>\n",
       "      <td>-19.61</td>\n",
       "      <td>5.94</td>\n",
       "      <td>8.58</td>\n",
       "      <td>11.45</td>\n",
       "      <td>20.04</td>\n",
       "    </tr>\n",
       "    <tr>\n",
       "      <th>Jogging</th>\n",
       "      <td>342179.0</td>\n",
       "      <td>5.461080</td>\n",
       "      <td>9.224947</td>\n",
       "      <td>-19.61</td>\n",
       "      <td>-0.72</td>\n",
       "      <td>4.56</td>\n",
       "      <td>13.38</td>\n",
       "      <td>20.04</td>\n",
       "    </tr>\n",
       "    <tr>\n",
       "      <th>Sitting</th>\n",
       "      <td>59939.0</td>\n",
       "      <td>1.853374</td>\n",
       "      <td>3.257750</td>\n",
       "      <td>-9.30</td>\n",
       "      <td>-0.95</td>\n",
       "      <td>2.49</td>\n",
       "      <td>3.72</td>\n",
       "      <td>18.47</td>\n",
       "    </tr>\n",
       "    <tr>\n",
       "      <th>Standing</th>\n",
       "      <td>48395.0</td>\n",
       "      <td>8.987236</td>\n",
       "      <td>1.264772</td>\n",
       "      <td>-0.65</td>\n",
       "      <td>8.50</td>\n",
       "      <td>9.43</td>\n",
       "      <td>9.81</td>\n",
       "      <td>19.46</td>\n",
       "    </tr>\n",
       "    <tr>\n",
       "      <th>Upstairs</th>\n",
       "      <td>122869.0</td>\n",
       "      <td>8.111545</td>\n",
       "      <td>4.890709</td>\n",
       "      <td>-19.61</td>\n",
       "      <td>5.43</td>\n",
       "      <td>8.54</td>\n",
       "      <td>11.03</td>\n",
       "      <td>20.04</td>\n",
       "    </tr>\n",
       "    <tr>\n",
       "      <th>Walking</th>\n",
       "      <td>424399.0</td>\n",
       "      <td>8.702048</td>\n",
       "      <td>5.006519</td>\n",
       "      <td>-18.85</td>\n",
       "      <td>5.28</td>\n",
       "      <td>8.77</td>\n",
       "      <td>12.15</td>\n",
       "      <td>20.04</td>\n",
       "    </tr>\n",
       "  </tbody>\n",
       "</table>\n",
       "</div>"
      ],
      "text/plain": [
       "               count      mean       std    min   25%   50%    75%    max\n",
       "class                                                                    \n",
       "Downstairs  100427.0  8.600230  4.904716 -19.61  5.94  8.58  11.45  20.04\n",
       "Jogging     342179.0  5.461080  9.224947 -19.61 -0.72  4.56  13.38  20.04\n",
       "Sitting      59939.0  1.853374  3.257750  -9.30 -0.95  2.49   3.72  18.47\n",
       "Standing     48395.0  8.987236  1.264772  -0.65  8.50  9.43   9.81  19.46\n",
       "Upstairs    122869.0  8.111545  4.890709 -19.61  5.43  8.54  11.03  20.04\n",
       "Walking     424399.0  8.702048  5.006519 -18.85  5.28  8.77  12.15  20.04"
      ]
     },
     "execution_count": 388,
     "metadata": {},
     "output_type": "execute_result"
    }
   ],
   "source": [
    "data.groupby('class')['y'].describe()"
   ]
  },
  {
   "cell_type": "code",
   "execution_count": 389,
   "id": "0aa10696",
   "metadata": {
    "scrolled": true
   },
   "outputs": [
    {
     "data": {
      "text/html": [
       "<div>\n",
       "<style scoped>\n",
       "    .dataframe tbody tr th:only-of-type {\n",
       "        vertical-align: middle;\n",
       "    }\n",
       "\n",
       "    .dataframe tbody tr th {\n",
       "        vertical-align: top;\n",
       "    }\n",
       "\n",
       "    .dataframe thead th {\n",
       "        text-align: right;\n",
       "    }\n",
       "</style>\n",
       "<table border=\"1\" class=\"dataframe\">\n",
       "  <thead>\n",
       "    <tr style=\"text-align: right;\">\n",
       "      <th></th>\n",
       "      <th>count</th>\n",
       "      <th>mean</th>\n",
       "      <th>std</th>\n",
       "      <th>min</th>\n",
       "      <th>25%</th>\n",
       "      <th>50%</th>\n",
       "      <th>75%</th>\n",
       "      <th>max</th>\n",
       "    </tr>\n",
       "    <tr>\n",
       "      <th>class</th>\n",
       "      <th></th>\n",
       "      <th></th>\n",
       "      <th></th>\n",
       "      <th></th>\n",
       "      <th></th>\n",
       "      <th></th>\n",
       "      <th></th>\n",
       "      <th></th>\n",
       "    </tr>\n",
       "  </thead>\n",
       "  <tbody>\n",
       "    <tr>\n",
       "      <th>Downstairs</th>\n",
       "      <td>100427.0</td>\n",
       "      <td>0.684080</td>\n",
       "      <td>3.706798</td>\n",
       "      <td>-19.61</td>\n",
       "      <td>-1.438689</td>\n",
       "      <td>0.503953</td>\n",
       "      <td>2.750000</td>\n",
       "      <td>19.34</td>\n",
       "    </tr>\n",
       "    <tr>\n",
       "      <th>Jogging</th>\n",
       "      <td>342179.0</td>\n",
       "      <td>-0.124295</td>\n",
       "      <td>5.833195</td>\n",
       "      <td>-19.80</td>\n",
       "      <td>-3.490000</td>\n",
       "      <td>-0.299648</td>\n",
       "      <td>3.296124</td>\n",
       "      <td>19.61</td>\n",
       "    </tr>\n",
       "    <tr>\n",
       "      <th>Sitting</th>\n",
       "      <td>59939.0</td>\n",
       "      <td>6.559716</td>\n",
       "      <td>3.735591</td>\n",
       "      <td>-10.80</td>\n",
       "      <td>5.710000</td>\n",
       "      <td>8.117727</td>\n",
       "      <td>8.920000</td>\n",
       "      <td>13.99</td>\n",
       "    </tr>\n",
       "    <tr>\n",
       "      <th>Standing</th>\n",
       "      <td>48395.0</td>\n",
       "      <td>0.580193</td>\n",
       "      <td>1.376870</td>\n",
       "      <td>-4.14</td>\n",
       "      <td>-0.500000</td>\n",
       "      <td>0.650000</td>\n",
       "      <td>1.420000</td>\n",
       "      <td>7.25</td>\n",
       "    </tr>\n",
       "    <tr>\n",
       "      <th>Upstairs</th>\n",
       "      <td>122869.0</td>\n",
       "      <td>0.323542</td>\n",
       "      <td>3.567884</td>\n",
       "      <td>-19.61</td>\n",
       "      <td>-1.688923</td>\n",
       "      <td>0.081722</td>\n",
       "      <td>2.070293</td>\n",
       "      <td>19.19</td>\n",
       "    </tr>\n",
       "    <tr>\n",
       "      <th>Walking</th>\n",
       "      <td>424399.0</td>\n",
       "      <td>-0.084199</td>\n",
       "      <td>4.011106</td>\n",
       "      <td>-19.38</td>\n",
       "      <td>-2.370000</td>\n",
       "      <td>-0.503953</td>\n",
       "      <td>1.690000</td>\n",
       "      <td>19.23</td>\n",
       "    </tr>\n",
       "  </tbody>\n",
       "</table>\n",
       "</div>"
      ],
      "text/plain": [
       "               count      mean       std    min       25%       50%       75%  \\\n",
       "class                                                                           \n",
       "Downstairs  100427.0  0.684080  3.706798 -19.61 -1.438689  0.503953  2.750000   \n",
       "Jogging     342179.0 -0.124295  5.833195 -19.80 -3.490000 -0.299648  3.296124   \n",
       "Sitting      59939.0  6.559716  3.735591 -10.80  5.710000  8.117727  8.920000   \n",
       "Standing     48395.0  0.580193  1.376870  -4.14 -0.500000  0.650000  1.420000   \n",
       "Upstairs    122869.0  0.323542  3.567884 -19.61 -1.688923  0.081722  2.070293   \n",
       "Walking     424399.0 -0.084199  4.011106 -19.38 -2.370000 -0.503953  1.690000   \n",
       "\n",
       "              max  \n",
       "class              \n",
       "Downstairs  19.34  \n",
       "Jogging     19.61  \n",
       "Sitting     13.99  \n",
       "Standing     7.25  \n",
       "Upstairs    19.19  \n",
       "Walking     19.23  "
      ]
     },
     "execution_count": 389,
     "metadata": {},
     "output_type": "execute_result"
    }
   ],
   "source": [
    "data.groupby('class')['z'].describe()"
   ]
  },
  {
   "cell_type": "code",
   "execution_count": 390,
   "id": "3ceccaf2",
   "metadata": {
    "scrolled": true
   },
   "outputs": [
    {
     "data": {
      "text/html": [
       "<div>\n",
       "<style scoped>\n",
       "    .dataframe tbody tr th:only-of-type {\n",
       "        vertical-align: middle;\n",
       "    }\n",
       "\n",
       "    .dataframe tbody tr th {\n",
       "        vertical-align: top;\n",
       "    }\n",
       "\n",
       "    .dataframe thead th {\n",
       "        text-align: right;\n",
       "    }\n",
       "</style>\n",
       "<table border=\"1\" class=\"dataframe\">\n",
       "  <thead>\n",
       "    <tr style=\"text-align: right;\">\n",
       "      <th></th>\n",
       "      <th>id</th>\n",
       "      <th>class</th>\n",
       "      <th>timestamp</th>\n",
       "      <th>x</th>\n",
       "      <th>y</th>\n",
       "      <th>z</th>\n",
       "    </tr>\n",
       "  </thead>\n",
       "  <tbody>\n",
       "    <tr>\n",
       "      <th>0</th>\n",
       "      <td>1</td>\n",
       "      <td>Walking</td>\n",
       "      <td>4991922345000</td>\n",
       "      <td>0.69</td>\n",
       "      <td>10.80</td>\n",
       "      <td>-2.030000</td>\n",
       "    </tr>\n",
       "    <tr>\n",
       "      <th>1</th>\n",
       "      <td>1</td>\n",
       "      <td>Walking</td>\n",
       "      <td>4991972333000</td>\n",
       "      <td>6.85</td>\n",
       "      <td>7.44</td>\n",
       "      <td>-0.500000</td>\n",
       "    </tr>\n",
       "    <tr>\n",
       "      <th>2</th>\n",
       "      <td>1</td>\n",
       "      <td>Walking</td>\n",
       "      <td>4992022351000</td>\n",
       "      <td>0.93</td>\n",
       "      <td>5.63</td>\n",
       "      <td>-0.500000</td>\n",
       "    </tr>\n",
       "    <tr>\n",
       "      <th>3</th>\n",
       "      <td>1</td>\n",
       "      <td>Walking</td>\n",
       "      <td>4992072339000</td>\n",
       "      <td>-2.11</td>\n",
       "      <td>5.01</td>\n",
       "      <td>-0.690000</td>\n",
       "    </tr>\n",
       "    <tr>\n",
       "      <th>4</th>\n",
       "      <td>1</td>\n",
       "      <td>Walking</td>\n",
       "      <td>4992122358000</td>\n",
       "      <td>-4.59</td>\n",
       "      <td>4.29</td>\n",
       "      <td>-1.950000</td>\n",
       "    </tr>\n",
       "    <tr>\n",
       "      <th>...</th>\n",
       "      <td>...</td>\n",
       "      <td>...</td>\n",
       "      <td>...</td>\n",
       "      <td>...</td>\n",
       "      <td>...</td>\n",
       "      <td>...</td>\n",
       "    </tr>\n",
       "    <tr>\n",
       "      <th>1098203</th>\n",
       "      <td>36</td>\n",
       "      <td>Standing</td>\n",
       "      <td>15049012250000</td>\n",
       "      <td>-0.91</td>\n",
       "      <td>9.43</td>\n",
       "      <td>2.533385</td>\n",
       "    </tr>\n",
       "    <tr>\n",
       "      <th>1098204</th>\n",
       "      <td>36</td>\n",
       "      <td>Standing</td>\n",
       "      <td>15049062268000</td>\n",
       "      <td>-1.18</td>\n",
       "      <td>9.51</td>\n",
       "      <td>2.492524</td>\n",
       "    </tr>\n",
       "    <tr>\n",
       "      <th>1098205</th>\n",
       "      <td>36</td>\n",
       "      <td>Standing</td>\n",
       "      <td>15049112287000</td>\n",
       "      <td>-1.50</td>\n",
       "      <td>9.53</td>\n",
       "      <td>2.533385</td>\n",
       "    </tr>\n",
       "    <tr>\n",
       "      <th>1098206</th>\n",
       "      <td>36</td>\n",
       "      <td>Standing</td>\n",
       "      <td>15049162275000</td>\n",
       "      <td>-2.07</td>\n",
       "      <td>8.77</td>\n",
       "      <td>2.179256</td>\n",
       "    </tr>\n",
       "    <tr>\n",
       "      <th>1098207</th>\n",
       "      <td>36</td>\n",
       "      <td>Standing</td>\n",
       "      <td>15049212262000</td>\n",
       "      <td>-2.14</td>\n",
       "      <td>9.89</td>\n",
       "      <td>3.255263</td>\n",
       "    </tr>\n",
       "  </tbody>\n",
       "</table>\n",
       "<p>1098208 rows × 6 columns</p>\n",
       "</div>"
      ],
      "text/plain": [
       "         id     class       timestamp     x      y         z\n",
       "0         1   Walking   4991922345000  0.69  10.80 -2.030000\n",
       "1         1   Walking   4991972333000  6.85   7.44 -0.500000\n",
       "2         1   Walking   4992022351000  0.93   5.63 -0.500000\n",
       "3         1   Walking   4992072339000 -2.11   5.01 -0.690000\n",
       "4         1   Walking   4992122358000 -4.59   4.29 -1.950000\n",
       "...      ..       ...             ...   ...    ...       ...\n",
       "1098203  36  Standing  15049012250000 -0.91   9.43  2.533385\n",
       "1098204  36  Standing  15049062268000 -1.18   9.51  2.492524\n",
       "1098205  36  Standing  15049112287000 -1.50   9.53  2.533385\n",
       "1098206  36  Standing  15049162275000 -2.07   8.77  2.179256\n",
       "1098207  36  Standing  15049212262000 -2.14   9.89  3.255263\n",
       "\n",
       "[1098208 rows x 6 columns]"
      ]
     },
     "execution_count": 390,
     "metadata": {},
     "output_type": "execute_result"
    }
   ],
   "source": [
    "data"
   ]
  },
  {
   "cell_type": "code",
   "execution_count": 391,
   "id": "1ab67838",
   "metadata": {
    "scrolled": true
   },
   "outputs": [
    {
     "data": {
      "text/plain": [
       "id\n",
       "1     Walking\n",
       "2     Walking\n",
       "3     Walking\n",
       "4     Walking\n",
       "5     Walking\n",
       "6     Walking\n",
       "7     Walking\n",
       "8     Walking\n",
       "9     Walking\n",
       "10    Walking\n",
       "11    Walking\n",
       "12    Walking\n",
       "13    Walking\n",
       "14    Walking\n",
       "15    Walking\n",
       "16    Walking\n",
       "17    Walking\n",
       "18    Walking\n",
       "19    Walking\n",
       "20    Walking\n",
       "21    Walking\n",
       "22    Walking\n",
       "23    Walking\n",
       "24    Walking\n",
       "25    Walking\n",
       "26    Walking\n",
       "27    Walking\n",
       "28    Walking\n",
       "29    Walking\n",
       "30    Walking\n",
       "31    Walking\n",
       "32    Walking\n",
       "33    Walking\n",
       "34    Walking\n",
       "35    Walking\n",
       "36    Walking\n",
       "Name: class, dtype: object"
      ]
     },
     "execution_count": 391,
     "metadata": {},
     "output_type": "execute_result"
    }
   ],
   "source": [
    "data.groupby('id')['class'].max()"
   ]
  },
  {
   "cell_type": "code",
   "execution_count": 392,
   "id": "bf6f42c4",
   "metadata": {},
   "outputs": [
    {
     "data": {
      "text/html": [
       "<div>\n",
       "<style scoped>\n",
       "    .dataframe tbody tr th:only-of-type {\n",
       "        vertical-align: middle;\n",
       "    }\n",
       "\n",
       "    .dataframe tbody tr th {\n",
       "        vertical-align: top;\n",
       "    }\n",
       "\n",
       "    .dataframe thead th {\n",
       "        text-align: right;\n",
       "    }\n",
       "</style>\n",
       "<table border=\"1\" class=\"dataframe\">\n",
       "  <thead>\n",
       "    <tr style=\"text-align: right;\">\n",
       "      <th></th>\n",
       "      <th>id</th>\n",
       "      <th>class</th>\n",
       "      <th>timestamp</th>\n",
       "      <th>x</th>\n",
       "      <th>y</th>\n",
       "      <th>z</th>\n",
       "    </tr>\n",
       "  </thead>\n",
       "  <tbody>\n",
       "    <tr>\n",
       "      <th>0</th>\n",
       "      <td>1</td>\n",
       "      <td>Walking</td>\n",
       "      <td>4991922345000</td>\n",
       "      <td>0.69</td>\n",
       "      <td>10.80</td>\n",
       "      <td>-2.03</td>\n",
       "    </tr>\n",
       "    <tr>\n",
       "      <th>1</th>\n",
       "      <td>1</td>\n",
       "      <td>Walking</td>\n",
       "      <td>4991972333000</td>\n",
       "      <td>6.85</td>\n",
       "      <td>7.44</td>\n",
       "      <td>-0.50</td>\n",
       "    </tr>\n",
       "    <tr>\n",
       "      <th>2</th>\n",
       "      <td>1</td>\n",
       "      <td>Walking</td>\n",
       "      <td>4992022351000</td>\n",
       "      <td>0.93</td>\n",
       "      <td>5.63</td>\n",
       "      <td>-0.50</td>\n",
       "    </tr>\n",
       "    <tr>\n",
       "      <th>3</th>\n",
       "      <td>1</td>\n",
       "      <td>Walking</td>\n",
       "      <td>4992072339000</td>\n",
       "      <td>-2.11</td>\n",
       "      <td>5.01</td>\n",
       "      <td>-0.69</td>\n",
       "    </tr>\n",
       "    <tr>\n",
       "      <th>4</th>\n",
       "      <td>1</td>\n",
       "      <td>Walking</td>\n",
       "      <td>4992122358000</td>\n",
       "      <td>-4.59</td>\n",
       "      <td>4.29</td>\n",
       "      <td>-1.95</td>\n",
       "    </tr>\n",
       "  </tbody>\n",
       "</table>\n",
       "</div>"
      ],
      "text/plain": [
       "   id    class      timestamp     x      y     z\n",
       "0   1  Walking  4991922345000  0.69  10.80 -2.03\n",
       "1   1  Walking  4991972333000  6.85   7.44 -0.50\n",
       "2   1  Walking  4992022351000  0.93   5.63 -0.50\n",
       "3   1  Walking  4992072339000 -2.11   5.01 -0.69\n",
       "4   1  Walking  4992122358000 -4.59   4.29 -1.95"
      ]
     },
     "execution_count": 392,
     "metadata": {},
     "output_type": "execute_result"
    }
   ],
   "source": [
    "data.head()"
   ]
  },
  {
   "cell_type": "code",
   "execution_count": 393,
   "id": "acec3b1e",
   "metadata": {},
   "outputs": [],
   "source": [
    "from sklearn import tree\n",
    "from sklearn.linear_model import LogisticRegression"
   ]
  },
  {
   "cell_type": "code",
   "execution_count": 394,
   "id": "eb809f57",
   "metadata": {},
   "outputs": [],
   "source": [
    "from sklearn.model_selection import train_test_split"
   ]
  },
  {
   "cell_type": "markdown",
   "id": "bd0dd433",
   "metadata": {},
   "source": [
    "# Explore Classification Performance on Raw Data\n",
    "We don't expect this to work very well as standard classification algorithms\n",
    "give no value to temporal relation between data points."
   ]
  },
  {
   "cell_type": "code",
   "execution_count": 395,
   "id": "1c28f5f1",
   "metadata": {},
   "outputs": [
    {
     "name": "stdout",
     "output_type": "stream",
     "text": [
      "            x     y         z\n",
      "36029   19.08 -2.14  2.790000\n",
      "563952  -5.24  8.12 -1.230000\n",
      "110331   0.27  2.26 -0.531194\n",
      "36029      Jogging\n",
      "563952    Standing\n",
      "110331     Walking\n",
      "Name: class, dtype: object\n",
      "      x      y     z    class\n",
      "0  0.69  10.80 -2.03  Walking\n",
      "1  6.85   7.44 -0.50  Walking\n",
      "2  0.93   5.63 -0.50  Walking\n"
     ]
    }
   ],
   "source": [
    "train, test, y_train, y_test = train_test_split(data[['x', 'y', 'z']], data['class'],)\n",
    "viz = train[0:3]\n",
    "print(viz)\n",
    "print(y_train[0:3])\n",
    "print(data[['x', 'y', 'z', 'class']][0:3])"
   ]
  },
  {
   "cell_type": "code",
   "execution_count": 396,
   "id": "e324cb38",
   "metadata": {},
   "outputs": [
    {
     "data": {
      "text/plain": [
       "((823656, 3), (274552, 3), (823656,), (274552,))"
      ]
     },
     "execution_count": 396,
     "metadata": {},
     "output_type": "execute_result"
    }
   ],
   "source": [
    "train.shape, test.shape, y_train.shape, y_test.shape"
   ]
  },
  {
   "cell_type": "code",
   "execution_count": 397,
   "id": "81450a6e",
   "metadata": {},
   "outputs": [
    {
     "data": {
      "text/plain": [
       "Index(['id', 'class', 'timestamp', 'x', 'y', 'z'], dtype='object')"
      ]
     },
     "execution_count": 397,
     "metadata": {},
     "output_type": "execute_result"
    }
   ],
   "source": [
    "data.columns"
   ]
  },
  {
   "cell_type": "code",
   "execution_count": 398,
   "id": "da17214a",
   "metadata": {},
   "outputs": [
    {
     "data": {
      "text/plain": [
       "DecisionTreeClassifier()"
      ]
     },
     "execution_count": 398,
     "metadata": {},
     "output_type": "execute_result"
    }
   ],
   "source": [
    "dt = tree.DecisionTreeClassifier()\n",
    "dt.fit(train, y_train)"
   ]
  },
  {
   "cell_type": "code",
   "execution_count": 399,
   "id": "b299aff3",
   "metadata": {},
   "outputs": [],
   "source": [
    "from sklearn.metrics import accuracy_score, f1_score"
   ]
  },
  {
   "cell_type": "code",
   "execution_count": 400,
   "id": "73b62ce0",
   "metadata": {},
   "outputs": [
    {
     "data": {
      "text/plain": [
       "0.5423234942743087"
      ]
     },
     "execution_count": 400,
     "metadata": {},
     "output_type": "execute_result"
    }
   ],
   "source": [
    "accuracy_score(dt.predict(test),y_test)"
   ]
  },
  {
   "cell_type": "code",
   "execution_count": 401,
   "id": "9df619bd",
   "metadata": {},
   "outputs": [
    {
     "name": "stdout",
     "output_type": "stream",
     "text": [
      "Logistic regression training accuracy: 0.47661645152830795.\n",
      "Logistic regression test accuracy: 0.47512675194498677.\n"
     ]
    }
   ],
   "source": [
    "clf = LogisticRegression(solver='saga')\n",
    "clf.fit(train, y_train)\n",
    "print(f'Logistic regression training accuracy: {accuracy_score(clf.predict(train), y_train)}.')\n",
    "print(f'Logistic regression test accuracy: {accuracy_score(clf.predict(test), y_test)}.')"
   ]
  },
  {
   "cell_type": "code",
   "execution_count": 402,
   "id": "e589b409",
   "metadata": {},
   "outputs": [],
   "source": [
    "data[['id', 'class', 'timestamp', 'x', 'y', 'z']].to_csv('./preProcessed_data.csv',index=False)"
   ]
  },
  {
   "cell_type": "markdown",
   "id": "0f9b99b8",
   "metadata": {},
   "source": [
    "## Examine Axis Normalization via PCA\n",
    "Orientations may not be entirely guaranteed."
   ]
  },
  {
   "cell_type": "code",
   "execution_count": 437,
   "id": "41e4c986",
   "metadata": {},
   "outputs": [],
   "source": [
    "from sklearn.decomposition import PCA\n",
    "\n",
    "def generatePCA2D(X,person='all'):\n",
    "    pca = PCA(n_components=3)\n",
    "    pca.fit(X)\n",
    "    print(np.array(X))\n",
    "    print(pca.explained_variance_ratio_)\n",
    "    print(pca.singular_values_)\n",
    "    print(pca.components_)\n",
    "\n",
    "    m = X.mean()\n",
    "    t_mean = [m['x'], m['y']]\n",
    "    components = pca.components_\n",
    "    values = pca.singular_values_ / 10\n",
    "    plt.title('Person ID: ' + person)\n",
    "    plt.axis('equal')\n",
    "    plt.arrow(t_mean[0], t_mean[1], components[0, 0]*values[0], components[1, 0]*values[0], ec='red', head_width=0.1)\n",
    "    plt.arrow(t_mean[0], t_mean[1], components[0, 1]*values[1], components[1, 1]*values[1], ec='green', head_width=0.1)\n",
    "    #plt.scatter(X['x'], X['y'], s=10)\n",
    "    plt.show()\n"
   ]
  },
  {
   "cell_type": "code",
   "execution_count": 438,
   "id": "75b4524f",
   "metadata": {},
   "outputs": [
    {
     "name": "stdout",
     "output_type": "stream",
     "text": [
      "[[19.08       -2.14        2.79      ]\n",
      " [-5.24        8.12       -1.23      ]\n",
      " [ 0.27        2.26       -0.53119355]\n",
      " ...\n",
      " [ 3.41        8.73       -1.33      ]\n",
      " [ 2.34        8.54        0.7218784 ]\n",
      " [-4.56       19.15       -7.89      ]]\n",
      "[0.41666328 0.38827811 0.19505861]\n",
      "[6283.48917943 6065.68299537 4299.23133515]\n",
      "[[-0.8673827  -0.48996666 -0.08706272]\n",
      " [ 0.48955398 -0.87153915  0.02750285]\n",
      " [ 0.08935405  0.0187664  -0.99582311]]\n"
     ]
    },
    {
     "data": {
      "image/png": "[encoded data removed]",
      "text/plain": [
       "<Figure size 432x288 with 1 Axes>"
      ]
     },
     "metadata": {
      "needs_background": "light"
     },
     "output_type": "display_data"
    }
   ],
   "source": [
    "generatePCA2D(train)"
   ]
  },
  {
   "cell_type": "code",
   "execution_count": 429,
   "id": "5df20044",
   "metadata": {},
   "outputs": [
    {
     "name": "stdout",
     "output_type": "stream",
     "text": [
      "[0.48648568 0.39542804 0.11808628]\n",
      "[1573.4692531  1418.59021288  775.2164103 ]\n",
      "[[-0.87385356 -0.48529606  0.0294565 ]\n",
      " [ 0.48557526 -0.86810297  0.10302378]\n",
      " [-0.02442576  0.10433105  0.99424263]]\n"
     ]
    },
    {
     "data": {
      "image/png": "[encoded data removed]",
      "text/plain": [
       "<Figure size 432x288 with 1 Axes>"
      ]
     },
     "metadata": {
      "needs_background": "light"
     },
     "output_type": "display_data"
    },
    {
     "name": "stdout",
     "output_type": "stream",
     "text": [
      "[0.60078291 0.22334718 0.17586991]\n",
      "[1265.98447347  771.89785428  684.96023875]\n",
      "[[ 0.89118323 -0.32302165  0.31851132]\n",
      " [-0.20529491 -0.91328275 -0.35180766]\n",
      " [-0.40453238 -0.24813633  0.88021697]]\n"
     ]
    },
    {
     "data": {
      "image/png": "[encoded data removed]",
      "text/plain": [
       "<Figure size 432x288 with 1 Axes>"
      ]
     },
     "metadata": {
      "needs_background": "light"
     },
     "output_type": "display_data"
    },
    {
     "name": "stdout",
     "output_type": "stream",
     "text": [
      "[0.49790365 0.31848757 0.18360877]\n",
      "[1442.38358448 1153.59764688  875.90060878]\n",
      "[[ 0.86269179  0.47083738  0.18459423]\n",
      " [-0.50425433  0.82869071  0.24289766]\n",
      " [ 0.03860622  0.30262826 -0.95232646]]\n"
     ]
    },
    {
     "data": {
      "image/png": "[encoded data removed]",
      "text/plain": [
       "<Figure size 432x288 with 1 Axes>"
      ]
     },
     "metadata": {
      "needs_background": "light"
     },
     "output_type": "display_data"
    },
    {
     "name": "stdout",
     "output_type": "stream",
     "text": [
      "[0.58970153 0.22117615 0.18912231]\n",
      "[752.82682063 461.05008291 426.33436285]\n",
      "[[-0.69796483 -0.65086313 -0.29870101]\n",
      " [ 0.51363532 -0.74562997  0.42451703]\n",
      " [ 0.49902291 -0.14287457 -0.85472978]]\n"
     ]
    },
    {
     "data": {
      "image/png": "[encoded data removed]",
      "text/plain": [
       "<Figure size 432x288 with 1 Axes>"
      ]
     },
     "metadata": {
      "needs_background": "light"
     },
     "output_type": "display_data"
    },
    {
     "name": "stdout",
     "output_type": "stream",
     "text": [
      "[0.53885973 0.2437282  0.21741206]\n",
      "[910.88686997 612.60349552 578.58663222]\n",
      "[[-0.26914381 -0.90989394 -0.31568121]\n",
      " [-0.70957201  0.40896714 -0.5738061 ]\n",
      " [ 0.65120593  0.06956219 -0.75570625]]\n"
     ]
    },
    {
     "data": {
      "image/png": "[encoded data removed]",
      "text/plain": [
       "<Figure size 432x288 with 1 Axes>"
      ]
     },
     "metadata": {
      "needs_background": "light"
     },
     "output_type": "display_data"
    },
    {
     "name": "stdout",
     "output_type": "stream",
     "text": [
      "[0.43312523 0.34543863 0.22143614]\n",
      "[1160.50686363 1036.3976591   829.78430759]\n",
      "[[-0.72642321  0.62360641 -0.28883275]\n",
      " [-0.66070141 -0.74937309  0.04374497]\n",
      " [-0.18916385  0.22260957  0.95637964]]\n"
     ]
    },
    {
     "data": {
      "image/png": "[encoded data removed]",
      "text/plain": [
       "<Figure size 432x288 with 1 Axes>"
      ]
     },
     "metadata": {
      "needs_background": "light"
     },
     "output_type": "display_data"
    },
    {
     "name": "stdout",
     "output_type": "stream",
     "text": [
      "[0.57663297 0.28264076 0.14072627]\n",
      "[1568.43127979 1098.07791009  774.82449851]\n",
      "[[-0.99962158  0.02693648  0.00557877]\n",
      " [-0.02493808 -0.97299055  0.22949396]\n",
      " [-0.01160985 -0.22926799 -0.9732941 ]]\n"
     ]
    },
    {
     "data": {
      "image/png": "[encoded data removed]",
      "text/plain": [
       "<Figure size 432x288 with 1 Axes>"
      ]
     },
     "metadata": {
      "needs_background": "light"
     },
     "output_type": "display_data"
    }
   ],
   "source": [
    "for p in range(1, 8):\n",
    "    data2 = data[data['id'] == p][['x', 'y', 'z']]\n",
    "    generatePCA2D(data2, str(p))"
   ]
  },
  {
   "cell_type": "code",
   "execution_count": 449,
   "id": "cae1bf0b",
   "metadata": {},
   "outputs": [
    {
     "name": "stdout",
     "output_type": "stream",
     "text": [
      "          x      y     z\n",
      "0      0.69  10.80 -2.03\n",
      "1      6.85   7.44 -0.50\n",
      "2      0.93   5.63 -0.50\n",
      "3     -2.11   5.01 -0.69\n",
      "4     -4.59   4.29 -1.95\n",
      "...     ...    ...   ...\n",
      "29973 -0.61   9.72  2.07\n",
      "29974  5.71  11.35  0.69\n",
      "29975  8.62   5.41 -1.18\n",
      "29976  4.25   7.59  0.08\n",
      "29977 -0.34  11.30  0.72\n",
      "\n",
      "[29978 rows x 3 columns]\n",
      "           x      y     z\n",
      "29978  -0.50   9.72  1.54\n",
      "29979   0.19  10.31  1.76\n",
      "29980   0.08  11.60 -0.72\n",
      "29981  -1.04  13.57 -1.61\n",
      "29982  -4.86  12.87  0.23\n",
      "...      ...    ...   ...\n",
      "53498 -12.18   3.30  0.34\n",
      "53499 -11.03   3.26 -5.86\n",
      "53500 -10.34   7.50 -6.09\n",
      "53501  -8.35   5.48 -2.41\n",
      "53502  -6.17   0.27 -2.83\n",
      "\n",
      "[23525 rows x 3 columns]\n",
      "          x      y     z\n",
      "53503  0.00   0.00  0.00\n",
      "53504  0.00   0.00  0.00\n",
      "53505  0.00   0.00  0.00\n",
      "53506  2.87  18.81 -0.89\n",
      "53507 -0.38   8.24 -1.27\n",
      "...     ...    ...   ...\n",
      "88659 -3.87   7.55  3.30\n",
      "88660 -4.06   8.08  4.79\n",
      "88661 -6.32   8.66  4.94\n",
      "88662 -5.37  11.22  3.06\n",
      "88663 -5.79   9.92  2.53\n",
      "\n",
      "[35161 rows x 3 columns]\n",
      "           x     y     z\n",
      "88664   0.00  0.00  0.00\n",
      "88665   0.00  0.00  0.00\n",
      "88666   1.04  9.00  0.69\n",
      "88667   0.80  9.47  1.38\n",
      "88668   0.15  9.38  1.08\n",
      "...      ...   ...   ...\n",
      "100030 -7.31 -3.91 -5.09\n",
      "100031 -7.27 -3.91 -5.13\n",
      "100032 -7.12 -3.98 -5.18\n",
      "100033 -7.31 -3.95 -5.24\n",
      "100034 -7.93 -3.68 -5.24\n",
      "\n",
      "[11371 rows x 3 columns]\n",
      "           x      y         z\n",
      "100035 -1.23   3.45 -0.381370\n",
      "100036 -0.95   5.01  1.648062\n",
      "100037 -1.61   5.28  0.572055\n",
      "100038 -3.17   7.50 -0.040861\n",
      "100039 -0.46  18.09 -1.116869\n",
      "...      ...    ...       ...\n",
      "128540 -1.38  10.34  0.313268\n",
      "128541 -1.18   9.81  0.081722\n",
      "128542 -0.89  10.61  0.040861\n",
      "128543 -0.95   9.96 -0.000000\n",
      "128544 -0.11   9.77  0.040861\n",
      "\n",
      "[28510 rows x 3 columns]\n",
      "           x      y     z\n",
      "128545  0.00   0.00  0.00\n",
      "128546  0.00   0.00  0.00\n",
      "128547  0.00   0.00  0.00\n",
      "128548  0.00   0.00  0.00\n",
      "128549  0.00   0.00  0.00\n",
      "...      ...    ...   ...\n",
      "158244 -2.75   9.58  0.95\n",
      "158245 -2.64   9.81  1.04\n",
      "158246 -2.07   9.96  0.80\n",
      "158247 -2.11  10.04  0.99\n",
      "158248 -0.04  10.04  0.53\n",
      "\n",
      "[29704 rows x 3 columns]\n",
      "            x      y     z\n",
      "158249   3.68  -6.28  1.95\n",
      "158250   1.69  -5.82  2.41\n",
      "158251   2.14  -2.45  0.23\n",
      "158252  19.91  14.75  0.38\n",
      "158253  18.77  17.58 -2.60\n",
      "...       ...    ...   ...\n",
      "189211  -6.74  -3.21  6.63\n",
      "189212  -6.85  -3.26  6.63\n",
      "189213  -6.85  -3.30  6.66\n",
      "189214  -7.01  -3.17  6.36\n",
      "189215  -6.85  -2.87  6.51\n",
      "\n",
      "[30967 rows x 3 columns]\n",
      "           x      y     z\n",
      "189216  0.00   0.00  0.00\n",
      "189217  1.80  12.30 -3.41\n",
      "189218  4.18   7.06  0.95\n",
      "189219 -0.34  10.53  1.95\n",
      "189220  1.18   9.96 -0.76\n",
      "...      ...    ...   ...\n",
      "230399 -7.82   7.27  0.30\n",
      "230400 -6.17   6.47  0.57\n",
      "230401 -5.33   6.59  0.50\n",
      "230402 -7.08   7.21  0.11\n",
      "230403 -8.43   7.40  0.42\n",
      "\n",
      "[41188 rows x 3 columns]\n",
      "            x      y     z\n",
      "230404  -0.08   6.32  3.68\n",
      "230405   3.38  10.00  5.28\n",
      "230406   8.31   7.40  8.62\n",
      "230407   4.71   8.39  2.37\n",
      "230408   1.14  17.31 -0.23\n",
      "...       ...    ...   ...\n",
      "243322  12.37   7.70  3.49\n",
      "243323  10.84   6.78  1.14\n",
      "243324   8.01   5.05 -0.04\n",
      "243325   5.86   4.21 -1.18\n",
      "243326   4.82   5.98  0.93\n",
      "\n",
      "[12923 rows x 3 columns]\n",
      "           x      y     z\n",
      "243327  0.00   0.00  0.00\n",
      "243328  0.00   0.00  0.00\n",
      "243329  0.00   0.00  0.00\n",
      "243330  0.00   0.00  0.00\n",
      "243331  0.00   0.00  0.00\n",
      "...      ...    ...   ...\n",
      "278205 -0.95  10.31  2.45\n",
      "278206 -1.42   9.72  3.21\n",
      "278207 -1.08   9.00  1.12\n",
      "278208 -0.76   9.38  1.04\n",
      "278209 -1.46  10.04  3.68\n",
      "\n",
      "[34883 rows x 3 columns]\n"
     ]
    }
   ],
   "source": [
    "i = 0\n",
    "projData = pd.read_csv('./preProcessed_data.csv')\n",
    "for p in projData.groupby('id'):\n",
    "    id = p[0]\n",
    "    pData = p[1][['x', 'y', 'z']]\n",
    "    pca = PCA(n_components=3)\n",
    "    pca.fit(pData)\n",
    "    new = pca.transform(pData)\n",
    "    # data2 = projData[projData['id'] == id][['x', 'y', 'z']]\n",
    "    i += 1\n",
    "    if i > 10:\n",
    "        break\n",
    "    print(pData)"
   ]
  },
  {
   "cell_type": "markdown",
   "id": "350928ff",
   "metadata": {},
   "source": [
    "# Features"
   ]
  },
  {
   "cell_type": "code",
   "execution_count": 264,
   "id": "666a8335",
   "metadata": {},
   "outputs": [],
   "source": [
    "data = pd.read_csv('./preProcessed_data.csv')"
   ]
  },
  {
   "cell_type": "code",
   "execution_count": 265,
   "id": "b5af2043",
   "metadata": {},
   "outputs": [
    {
     "data": {
      "text/plain": [
       "Index(['id', 'class', 'timestamp', 'x', 'y', 'z'], dtype='object')"
      ]
     },
     "execution_count": 265,
     "metadata": {},
     "output_type": "execute_result"
    }
   ],
   "source": [
    "data.columns"
   ]
  },
  {
   "cell_type": "markdown",
   "id": "250ed114",
   "metadata": {},
   "source": [
    "win_type='gaussian'"
   ]
  },
  {
   "cell_type": "code",
   "execution_count": 266,
   "id": "c2b1b6fe",
   "metadata": {},
   "outputs": [],
   "source": [
    "# Window width\n",
    "w = 200\n",
    "\n",
    "# Sliding window 'stride'\n",
    "stride = 4 * 20"
   ]
  },
  {
   "cell_type": "code",
   "execution_count": 267,
   "id": "e7b61026",
   "metadata": {},
   "outputs": [],
   "source": [
    "rolling_data_x = data.groupby('id')['x'].rolling(window=w,min_periods=5)\n",
    "rolling_data_y = data.groupby('id')['y'].rolling(window=w,min_periods=5)\n",
    "rolling_data_z = data.groupby('id')['z'].rolling(window=w,min_periods=5)"
   ]
  },
  {
   "cell_type": "code",
   "execution_count": 268,
   "id": "d7366130",
   "metadata": {
    "scrolled": true
   },
   "outputs": [],
   "source": [
    "data['rolling_x_mean']=list(rolling_data_x.mean().fillna(0))\n",
    "data['rolling_y_mean']=list(rolling_data_y.mean().fillna(0))\n",
    "data['rolling_z_mean']=list(rolling_data_z.mean().fillna(0))"
   ]
  },
  {
   "cell_type": "code",
   "execution_count": 269,
   "id": "af1bfe8b",
   "metadata": {},
   "outputs": [],
   "source": [
    "data['rolling_x_std']=list(rolling_data_x.std().fillna(0))\n",
    "data['rolling_y_std']=list(rolling_data_y.std().fillna(0))\n",
    "data['rolling_z_std']=list(rolling_data_z.std().fillna(0))"
   ]
  },
  {
   "cell_type": "code",
   "execution_count": 270,
   "id": "ffd57013",
   "metadata": {},
   "outputs": [],
   "source": [
    "data['rolling_x_min']=list(rolling_data_x.min().fillna(0))\n",
    "data['rolling_y_min']=list(rolling_data_y.min().fillna(0))\n",
    "data['rolling_z_min']=list(rolling_data_z.min().fillna(0))"
   ]
  },
  {
   "cell_type": "code",
   "execution_count": 271,
   "id": "b531ea8b",
   "metadata": {},
   "outputs": [],
   "source": [
    "data['rolling_x_max']=list(rolling_data_x.max().fillna(0))\n",
    "data['rolling_y_max']=list(rolling_data_y.max().fillna(0))\n",
    "data['rolling_z_max']=list(rolling_data_z.max().fillna(0))"
   ]
  },
  {
   "cell_type": "code",
   "execution_count": 272,
   "id": "2fb2224e",
   "metadata": {},
   "outputs": [],
   "source": [
    "# data['rolling_x_iqr']=np.array(data.groupby('personId')['x'].rolling(window=240,max_periods=5).quantile(0.75).fillna(0))-np.array(data.groupby('personId')['x'].rolling(window=w,max_periods=5).quantile(0.25).fillna(0))\n",
    "# data['rolling_y_iqr']=np.array(data.groupby('personId')['y'].rolling(window=240,max_periods=5).quantile(0.75).fillna(0))-np.array(data.groupby('personId')['y'].rolling(window=w,max_periods=5).quantile(0.25).fillna(0))\n",
    "# data['rolling_z_iqr']=np.array(data.groupby('personId')['z'].rolling(window=240,max_periods=5).quantile(0.75).fillna(0))-np.array(data.groupby('personId')['z'].rolling(window=w,max_periods=5).quantile(0.25).fillna(0))\n",
    "\n",
    "data['rolling_x_iqr']=np.array(rolling_data_x.quantile(0.75).fillna(0))-np.array(rolling_data_x.quantile(0.25).fillna(0))\n",
    "data['rolling_y_iqr']=np.array(rolling_data_y.quantile(0.75).fillna(0))-np.array(rolling_data_y.quantile(0.25).fillna(0))\n",
    "data['rolling_z_iqr']=np.array(rolling_data_z.quantile(0.75).fillna(0))-np.array(rolling_data_z.quantile(0.25).fillna(0))"
   ]
  },
  {
   "cell_type": "code",
   "execution_count": 275,
   "id": "d5b421db",
   "metadata": {},
   "outputs": [],
   "source": [
    "data['avg_speed'] = np.sqrt(np.square(data['x'])+np.square(data['y'])+np.square(data['z']))\n",
    "data['rolling_mean_speed']=list(data.groupby('id')['avg_speed'].rolling(window=w,min_periods=5).mean().fillna(0))"
   ]
  },
  {
   "cell_type": "code",
   "execution_count": 279,
   "id": "256fbd63",
   "metadata": {
    "scrolled": true
   },
   "outputs": [],
   "source": [
    "data['abs_x_diff']=np.abs(data.groupby('id')['x'].diff().fillna(0))\n",
    "data['abs_y_diff']=np.abs(data.groupby('id')['y'].diff().fillna(0))\n",
    "data['abs_z_diff']=np.abs(data.groupby('id')['z'].diff().fillna(0))"
   ]
  },
  {
   "cell_type": "code",
   "execution_count": 280,
   "id": "3ccf98a0",
   "metadata": {},
   "outputs": [],
   "source": [
    "data['rolling_abs_x_diff']=list(data.groupby('id')['abs_x_diff'].rolling(window=w,min_periods=5).mean().fillna(0))\n",
    "data['rolling_abs_y_diff']=list(data.groupby('id')['abs_y_diff'].rolling(window=w,min_periods=5).mean().fillna(0))\n",
    "data['rolling_abs_z_diff']=list(data.groupby('id')['abs_z_diff'].rolling(window=w,min_periods=5).mean().fillna(0))"
   ]
  },
  {
   "cell_type": "markdown",
   "id": "2a0fa3fd",
   "metadata": {},
   "source": [
    "## Subset Data - consider every 4th second "
   ]
  },
  {
   "cell_type": "code",
   "execution_count": 290,
   "id": "3d84ff9f",
   "metadata": {
    "scrolled": true
   },
   "outputs": [],
   "source": [
    "# mode for 20 seconds in 4th second\n",
    "for key, dat in data.groupby('id'):\n",
    "    dat.reset_index(drop=True,inplace=True)\n"
   ]
  },
  {
   "cell_type": "code",
   "execution_count": 286,
   "id": "71d887db",
   "metadata": {
    "scrolled": true
   },
   "outputs": [
    {
     "data": {
      "text/html": [
       "<div>\n",
       "<style scoped>\n",
       "    .dataframe tbody tr th:only-of-type {\n",
       "        vertical-align: middle;\n",
       "    }\n",
       "\n",
       "    .dataframe tbody tr th {\n",
       "        vertical-align: top;\n",
       "    }\n",
       "\n",
       "    .dataframe thead th {\n",
       "        text-align: right;\n",
       "    }\n",
       "</style>\n",
       "<table border=\"1\" class=\"dataframe\">\n",
       "  <thead>\n",
       "    <tr style=\"text-align: right;\">\n",
       "      <th></th>\n",
       "      <th>id</th>\n",
       "      <th>class</th>\n",
       "      <th>timestamp</th>\n",
       "      <th>x</th>\n",
       "      <th>y</th>\n",
       "      <th>z</th>\n",
       "      <th>rolling_x_mean</th>\n",
       "      <th>rolling_y_mean</th>\n",
       "      <th>rolling_z_mean</th>\n",
       "      <th>rolling_x_std</th>\n",
       "      <th>...</th>\n",
       "      <th>rolling_y_iqr</th>\n",
       "      <th>rolling_z_iqr</th>\n",
       "      <th>avg_speed</th>\n",
       "      <th>rolling_mean_speed</th>\n",
       "      <th>abs_x_diff</th>\n",
       "      <th>abs_y_diff</th>\n",
       "      <th>abs_z_diff</th>\n",
       "      <th>rolling_abs_x_diff</th>\n",
       "      <th>rolling_abs_y_diff</th>\n",
       "      <th>rolling_abs_z_diff</th>\n",
       "    </tr>\n",
       "  </thead>\n",
       "  <tbody>\n",
       "    <tr>\n",
       "      <th>200</th>\n",
       "      <td>1</td>\n",
       "      <td>Walking</td>\n",
       "      <td>5001922345000</td>\n",
       "      <td>6.17</td>\n",
       "      <td>6.13</td>\n",
       "      <td>-1.650000</td>\n",
       "      <td>3.80205</td>\n",
       "      <td>9.91740</td>\n",
       "      <td>-0.574000</td>\n",
       "      <td>5.743151</td>\n",
       "      <td>...</td>\n",
       "      <td>5.4775</td>\n",
       "      <td>2.635000</td>\n",
       "      <td>8.852587</td>\n",
       "      <td>12.200161</td>\n",
       "      <td>0.31</td>\n",
       "      <td>2.07</td>\n",
       "      <td>0.490000</td>\n",
       "      <td>4.59770</td>\n",
       "      <td>3.25065</td>\n",
       "      <td>2.850500</td>\n",
       "    </tr>\n",
       "    <tr>\n",
       "      <th>280</th>\n",
       "      <td>1</td>\n",
       "      <td>Walking</td>\n",
       "      <td>5005932325000</td>\n",
       "      <td>1.61</td>\n",
       "      <td>8.43</td>\n",
       "      <td>-1.950000</td>\n",
       "      <td>3.82400</td>\n",
       "      <td>10.00365</td>\n",
       "      <td>-0.624150</td>\n",
       "      <td>5.883860</td>\n",
       "      <td>...</td>\n",
       "      <td>6.0400</td>\n",
       "      <td>3.017500</td>\n",
       "      <td>8.801108</td>\n",
       "      <td>12.415330</td>\n",
       "      <td>1.08</td>\n",
       "      <td>0.88</td>\n",
       "      <td>2.110000</td>\n",
       "      <td>4.79150</td>\n",
       "      <td>3.56460</td>\n",
       "      <td>2.959100</td>\n",
       "    </tr>\n",
       "    <tr>\n",
       "      <th>360</th>\n",
       "      <td>1</td>\n",
       "      <td>Walking</td>\n",
       "      <td>5009922376000</td>\n",
       "      <td>-0.23</td>\n",
       "      <td>11.11</td>\n",
       "      <td>-1.760000</td>\n",
       "      <td>3.78300</td>\n",
       "      <td>9.97410</td>\n",
       "      <td>-0.552250</td>\n",
       "      <td>5.814160</td>\n",
       "      <td>...</td>\n",
       "      <td>5.7975</td>\n",
       "      <td>3.300000</td>\n",
       "      <td>11.250893</td>\n",
       "      <td>12.356238</td>\n",
       "      <td>3.34</td>\n",
       "      <td>3.03</td>\n",
       "      <td>1.200000</td>\n",
       "      <td>4.77505</td>\n",
       "      <td>3.84140</td>\n",
       "      <td>3.060900</td>\n",
       "    </tr>\n",
       "    <tr>\n",
       "      <th>440</th>\n",
       "      <td>1</td>\n",
       "      <td>Walking</td>\n",
       "      <td>5013942304000</td>\n",
       "      <td>0.34</td>\n",
       "      <td>11.14</td>\n",
       "      <td>-1.420000</td>\n",
       "      <td>3.57800</td>\n",
       "      <td>10.00005</td>\n",
       "      <td>-0.608500</td>\n",
       "      <td>5.746907</td>\n",
       "      <td>...</td>\n",
       "      <td>5.3875</td>\n",
       "      <td>3.807500</td>\n",
       "      <td>11.235284</td>\n",
       "      <td>12.292270</td>\n",
       "      <td>4.40</td>\n",
       "      <td>2.86</td>\n",
       "      <td>1.110000</td>\n",
       "      <td>4.71180</td>\n",
       "      <td>4.05550</td>\n",
       "      <td>3.189600</td>\n",
       "    </tr>\n",
       "    <tr>\n",
       "      <th>520</th>\n",
       "      <td>1</td>\n",
       "      <td>Walking</td>\n",
       "      <td>5017942304000</td>\n",
       "      <td>-2.72</td>\n",
       "      <td>11.73</td>\n",
       "      <td>-1.420000</td>\n",
       "      <td>3.37050</td>\n",
       "      <td>10.15345</td>\n",
       "      <td>-0.683350</td>\n",
       "      <td>5.756880</td>\n",
       "      <td>...</td>\n",
       "      <td>5.5000</td>\n",
       "      <td>3.572500</td>\n",
       "      <td>12.124673</td>\n",
       "      <td>12.378581</td>\n",
       "      <td>3.10</td>\n",
       "      <td>3.72</td>\n",
       "      <td>5.050000</td>\n",
       "      <td>4.66750</td>\n",
       "      <td>4.18825</td>\n",
       "      <td>3.217650</td>\n",
       "    </tr>\n",
       "    <tr>\n",
       "      <th>...</th>\n",
       "      <td>...</td>\n",
       "      <td>...</td>\n",
       "      <td>...</td>\n",
       "      <td>...</td>\n",
       "      <td>...</td>\n",
       "      <td>...</td>\n",
       "      <td>...</td>\n",
       "      <td>...</td>\n",
       "      <td>...</td>\n",
       "      <td>...</td>\n",
       "      <td>...</td>\n",
       "      <td>...</td>\n",
       "      <td>...</td>\n",
       "      <td>...</td>\n",
       "      <td>...</td>\n",
       "      <td>...</td>\n",
       "      <td>...</td>\n",
       "      <td>...</td>\n",
       "      <td>...</td>\n",
       "      <td>...</td>\n",
       "      <td>...</td>\n",
       "    </tr>\n",
       "    <tr>\n",
       "      <th>31720</th>\n",
       "      <td>36</td>\n",
       "      <td>Standing</td>\n",
       "      <td>15022192304000</td>\n",
       "      <td>-1.33</td>\n",
       "      <td>9.47</td>\n",
       "      <td>2.260978</td>\n",
       "      <td>-1.34585</td>\n",
       "      <td>9.51750</td>\n",
       "      <td>2.103799</td>\n",
       "      <td>0.255745</td>\n",
       "      <td>...</td>\n",
       "      <td>0.1100</td>\n",
       "      <td>0.282622</td>\n",
       "      <td>9.826587</td>\n",
       "      <td>9.845150</td>\n",
       "      <td>0.06</td>\n",
       "      <td>0.04</td>\n",
       "      <td>0.081722</td>\n",
       "      <td>0.10945</td>\n",
       "      <td>0.07260</td>\n",
       "      <td>0.084787</td>\n",
       "    </tr>\n",
       "    <tr>\n",
       "      <th>31800</th>\n",
       "      <td>36</td>\n",
       "      <td>Standing</td>\n",
       "      <td>15026192304000</td>\n",
       "      <td>-1.04</td>\n",
       "      <td>9.62</td>\n",
       "      <td>2.410802</td>\n",
       "      <td>-1.37070</td>\n",
       "      <td>9.51750</td>\n",
       "      <td>2.095150</td>\n",
       "      <td>0.235644</td>\n",
       "      <td>...</td>\n",
       "      <td>0.1100</td>\n",
       "      <td>0.320078</td>\n",
       "      <td>9.971859</td>\n",
       "      <td>9.845993</td>\n",
       "      <td>0.05</td>\n",
       "      <td>0.28</td>\n",
       "      <td>0.040861</td>\n",
       "      <td>0.11675</td>\n",
       "      <td>0.08775</td>\n",
       "      <td>0.073005</td>\n",
       "    </tr>\n",
       "    <tr>\n",
       "      <th>31880</th>\n",
       "      <td>36</td>\n",
       "      <td>Standing</td>\n",
       "      <td>15030182599000</td>\n",
       "      <td>-1.08</td>\n",
       "      <td>9.43</td>\n",
       "      <td>2.410802</td>\n",
       "      <td>-1.32085</td>\n",
       "      <td>9.49720</td>\n",
       "      <td>2.262816</td>\n",
       "      <td>0.225049</td>\n",
       "      <td>...</td>\n",
       "      <td>0.1000</td>\n",
       "      <td>0.258787</td>\n",
       "      <td>9.793021</td>\n",
       "      <td>9.856263</td>\n",
       "      <td>0.04</td>\n",
       "      <td>0.08</td>\n",
       "      <td>0.040861</td>\n",
       "      <td>0.13745</td>\n",
       "      <td>0.09870</td>\n",
       "      <td>0.092618</td>\n",
       "    </tr>\n",
       "    <tr>\n",
       "      <th>31960</th>\n",
       "      <td>36</td>\n",
       "      <td>Standing</td>\n",
       "      <td>15034192273000</td>\n",
       "      <td>-1.33</td>\n",
       "      <td>9.38</td>\n",
       "      <td>2.492524</td>\n",
       "      <td>-1.29645</td>\n",
       "      <td>9.45815</td>\n",
       "      <td>2.413730</td>\n",
       "      <td>0.189341</td>\n",
       "      <td>...</td>\n",
       "      <td>0.1300</td>\n",
       "      <td>0.231546</td>\n",
       "      <td>9.796222</td>\n",
       "      <td>9.850467</td>\n",
       "      <td>0.02</td>\n",
       "      <td>0.09</td>\n",
       "      <td>0.040861</td>\n",
       "      <td>0.11690</td>\n",
       "      <td>0.07965</td>\n",
       "      <td>0.084787</td>\n",
       "    </tr>\n",
       "    <tr>\n",
       "      <th>32040</th>\n",
       "      <td>36</td>\n",
       "      <td>Standing</td>\n",
       "      <td>15038192273000</td>\n",
       "      <td>-1.33</td>\n",
       "      <td>9.43</td>\n",
       "      <td>2.342700</td>\n",
       "      <td>-1.30910</td>\n",
       "      <td>9.43255</td>\n",
       "      <td>2.495997</td>\n",
       "      <td>0.137110</td>\n",
       "      <td>...</td>\n",
       "      <td>0.0900</td>\n",
       "      <td>0.108963</td>\n",
       "      <td>9.807244</td>\n",
       "      <td>9.845994</td>\n",
       "      <td>0.06</td>\n",
       "      <td>0.04</td>\n",
       "      <td>0.068102</td>\n",
       "      <td>0.06700</td>\n",
       "      <td>0.04790</td>\n",
       "      <td>0.053528</td>\n",
       "    </tr>\n",
       "  </tbody>\n",
       "</table>\n",
       "<p>13565 rows × 29 columns</p>\n",
       "</div>"
      ],
      "text/plain": [
       "       id     class       timestamp     x      y         z  rolling_x_mean  \\\n",
       "200     1   Walking   5001922345000  6.17   6.13 -1.650000         3.80205   \n",
       "280     1   Walking   5005932325000  1.61   8.43 -1.950000         3.82400   \n",
       "360     1   Walking   5009922376000 -0.23  11.11 -1.760000         3.78300   \n",
       "440     1   Walking   5013942304000  0.34  11.14 -1.420000         3.57800   \n",
       "520     1   Walking   5017942304000 -2.72  11.73 -1.420000         3.37050   \n",
       "...    ..       ...             ...   ...    ...       ...             ...   \n",
       "31720  36  Standing  15022192304000 -1.33   9.47  2.260978        -1.34585   \n",
       "31800  36  Standing  15026192304000 -1.04   9.62  2.410802        -1.37070   \n",
       "31880  36  Standing  15030182599000 -1.08   9.43  2.410802        -1.32085   \n",
       "31960  36  Standing  15034192273000 -1.33   9.38  2.492524        -1.29645   \n",
       "32040  36  Standing  15038192273000 -1.33   9.43  2.342700        -1.30910   \n",
       "\n",
       "       rolling_y_mean  rolling_z_mean  rolling_x_std  ...  rolling_y_iqr  \\\n",
       "200           9.91740       -0.574000       5.743151  ...         5.4775   \n",
       "280          10.00365       -0.624150       5.883860  ...         6.0400   \n",
       "360           9.97410       -0.552250       5.814160  ...         5.7975   \n",
       "440          10.00005       -0.608500       5.746907  ...         5.3875   \n",
       "520          10.15345       -0.683350       5.756880  ...         5.5000   \n",
       "...               ...             ...            ...  ...            ...   \n",
       "31720         9.51750        2.103799       0.255745  ...         0.1100   \n",
       "31800         9.51750        2.095150       0.235644  ...         0.1100   \n",
       "31880         9.49720        2.262816       0.225049  ...         0.1000   \n",
       "31960         9.45815        2.413730       0.189341  ...         0.1300   \n",
       "32040         9.43255        2.495997       0.137110  ...         0.0900   \n",
       "\n",
       "       rolling_z_iqr  avg_speed  rolling_mean_speed  abs_x_diff  abs_y_diff  \\\n",
       "200         2.635000   8.852587           12.200161        0.31        2.07   \n",
       "280         3.017500   8.801108           12.415330        1.08        0.88   \n",
       "360         3.300000  11.250893           12.356238        3.34        3.03   \n",
       "440         3.807500  11.235284           12.292270        4.40        2.86   \n",
       "520         3.572500  12.124673           12.378581        3.10        3.72   \n",
       "...              ...        ...                 ...         ...         ...   \n",
       "31720       0.282622   9.826587            9.845150        0.06        0.04   \n",
       "31800       0.320078   9.971859            9.845993        0.05        0.28   \n",
       "31880       0.258787   9.793021            9.856263        0.04        0.08   \n",
       "31960       0.231546   9.796222            9.850467        0.02        0.09   \n",
       "32040       0.108963   9.807244            9.845994        0.06        0.04   \n",
       "\n",
       "       abs_z_diff  rolling_abs_x_diff  rolling_abs_y_diff  rolling_abs_z_diff  \n",
       "200      0.490000             4.59770             3.25065            2.850500  \n",
       "280      2.110000             4.79150             3.56460            2.959100  \n",
       "360      1.200000             4.77505             3.84140            3.060900  \n",
       "440      1.110000             4.71180             4.05550            3.189600  \n",
       "520      5.050000             4.66750             4.18825            3.217650  \n",
       "...           ...                 ...                 ...                 ...  \n",
       "31720    0.081722             0.10945             0.07260            0.084787  \n",
       "31800    0.040861             0.11675             0.08775            0.073005  \n",
       "31880    0.040861             0.13745             0.09870            0.092618  \n",
       "31960    0.040861             0.11690             0.07965            0.084787  \n",
       "32040    0.068102             0.06700             0.04790            0.053528  \n",
       "\n",
       "[13565 rows x 29 columns]"
      ]
     },
     "execution_count": 286,
     "metadata": {},
     "output_type": "execute_result"
    }
   ],
   "source": [
    "final = pd.DataFrame()\n",
    "for key, dat in data.groupby('id'):\n",
    "    dat.reset_index(drop=True,inplace=True)\n",
    "    final=final.append(dat.iloc[list(range(w,len(dat)-w,stride))])\n",
    "\n",
    "final"
   ]
  },
  {
   "cell_type": "code",
   "execution_count": 283,
   "id": "ab770399",
   "metadata": {},
   "outputs": [
    {
     "data": {
      "text/plain": [
       "0    Jogging\n",
       "dtype: object"
      ]
     },
     "execution_count": 283,
     "metadata": {},
     "output_type": "execute_result"
    }
   ],
   "source": [
    "dat['class'].mode()"
   ]
  },
  {
   "cell_type": "code",
   "execution_count": 288,
   "id": "396503d0",
   "metadata": {
    "scrolled": true
   },
   "outputs": [
    {
     "data": {
      "text/plain": [
       "Walking       5258\n",
       "Jogging       4244\n",
       "Upstairs      1510\n",
       "Downstairs    1241\n",
       "Sitting        740\n",
       "Standing       572\n",
       "Name: class, dtype: int64"
      ]
     },
     "execution_count": 288,
     "metadata": {},
     "output_type": "execute_result"
    }
   ],
   "source": [
    "final['class'].value_counts()"
   ]
  },
  {
   "cell_type": "code",
   "execution_count": 291,
   "id": "51b7fedd",
   "metadata": {
    "scrolled": true
   },
   "outputs": [
    {
     "data": {
      "text/plain": [
       "Index(['id', 'class', 'timestamp', 'x', 'y', 'z', 'rolling_x_mean',\n",
       "       'rolling_y_mean', 'rolling_z_mean', 'rolling_x_std', 'rolling_y_std',\n",
       "       'rolling_z_std', 'rolling_x_min', 'rolling_y_min', 'rolling_z_min',\n",
       "       'rolling_x_max', 'rolling_y_max', 'rolling_z_max', 'rolling_x_iqr',\n",
       "       'rolling_y_iqr', 'rolling_z_iqr', 'avg_speed', 'rolling_mean_speed',\n",
       "       'abs_x_diff', 'abs_y_diff', 'abs_z_diff', 'rolling_abs_x_diff',\n",
       "       'rolling_abs_y_diff', 'rolling_abs_z_diff'],\n",
       "      dtype='object')"
      ]
     },
     "execution_count": 291,
     "metadata": {},
     "output_type": "execute_result"
    }
   ],
   "source": [
    "final.columns"
   ]
  },
  {
   "cell_type": "code",
   "execution_count": 292,
   "id": "5c61e82e",
   "metadata": {},
   "outputs": [],
   "source": [
    "features =  ['x', 'y', 'z', 'rolling_x_mean',\n",
    "       'rolling_y_mean', 'rolling_z_mean', 'rolling_x_std', 'rolling_y_std',\n",
    "       'rolling_z_std', 'rolling_x_min', 'rolling_y_min', 'rolling_z_min',\n",
    "       'rolling_x_max', 'rolling_y_max', 'rolling_z_max', 'rolling_x_iqr',\n",
    "       'rolling_y_iqr', 'rolling_z_iqr',  'rolling_mean_speed',\n",
    "#        'abs_x_diff', 'abs_y_diff', 'abs_z_diff', \n",
    "#              'rolling_abs_x_diff'\n",
    "            ]"
   ]
  },
  {
   "cell_type": "code",
   "execution_count": 295,
   "id": "722ebe24",
   "metadata": {},
   "outputs": [],
   "source": [
    "train, test, y_train, y_test = train_test_split(final[features], final['class'], stratify=final['class'])"
   ]
  },
  {
   "cell_type": "code",
   "execution_count": 296,
   "id": "47b7b34f",
   "metadata": {},
   "outputs": [
    {
     "data": {
      "text/plain": [
       "((10173, 19), (3392, 19))"
      ]
     },
     "execution_count": 296,
     "metadata": {},
     "output_type": "execute_result"
    }
   ],
   "source": [
    "train.shape,test.shape"
   ]
  },
  {
   "cell_type": "code",
   "execution_count": 297,
   "id": "06456b92",
   "metadata": {},
   "outputs": [
    {
     "data": {
      "text/plain": [
       "Walking       3943\n",
       "Jogging       3183\n",
       "Upstairs      1132\n",
       "Downstairs     931\n",
       "Sitting        555\n",
       "Standing       429\n",
       "Name: class, dtype: int64"
      ]
     },
     "execution_count": 297,
     "metadata": {},
     "output_type": "execute_result"
    }
   ],
   "source": [
    "y_train.value_counts()"
   ]
  },
  {
   "cell_type": "code",
   "execution_count": 298,
   "id": "f014edef",
   "metadata": {
    "scrolled": true
   },
   "outputs": [
    {
     "data": {
      "text/plain": [
       "DecisionTreeClassifier()"
      ]
     },
     "execution_count": 298,
     "metadata": {},
     "output_type": "execute_result"
    }
   ],
   "source": [
    "dt = tree.DecisionTreeClassifier()\n",
    "dt.fit(train, y_train)"
   ]
  },
  {
   "cell_type": "code",
   "execution_count": 299,
   "id": "e24ed025",
   "metadata": {},
   "outputs": [
    {
     "data": {
      "text/plain": [
       "0.9992136046397326"
      ]
     },
     "execution_count": 299,
     "metadata": {},
     "output_type": "execute_result"
    }
   ],
   "source": [
    "accuracy_score(dt.predict(train), y_train)"
   ]
  },
  {
   "cell_type": "code",
   "execution_count": 300,
   "id": "080951be",
   "metadata": {},
   "outputs": [
    {
     "data": {
      "text/plain": [
       "0.9992423661662547"
      ]
     },
     "execution_count": 300,
     "metadata": {},
     "output_type": "execute_result"
    }
   ],
   "source": [
    "f1_score(dt.predict(train), y_train, average='macro')"
   ]
  },
  {
   "cell_type": "code",
   "execution_count": 301,
   "id": "e7e309c4",
   "metadata": {},
   "outputs": [
    {
     "data": {
      "text/plain": [
       "0.8994693396226415"
      ]
     },
     "execution_count": 301,
     "metadata": {},
     "output_type": "execute_result"
    }
   ],
   "source": [
    "accuracy_score(dt.predict(test), y_test)"
   ]
  },
  {
   "cell_type": "code",
   "execution_count": 302,
   "id": "182b1f8c",
   "metadata": {
    "scrolled": true
   },
   "outputs": [
    {
     "data": {
      "text/plain": [
       "0.8690057985129856"
      ]
     },
     "execution_count": 302,
     "metadata": {},
     "output_type": "execute_result"
    }
   ],
   "source": [
    "f1_score(dt.predict(test),y_test,average='macro')"
   ]
  },
  {
   "cell_type": "code",
   "execution_count": 305,
   "id": "700a966f",
   "metadata": {},
   "outputs": [
    {
     "name": "stdout",
     "output_type": "stream",
     "text": [
      "Logistic regression training accuracy: 0.8495035879288312.\n",
      "Logistic regression test accuracy: 0.8449292452830188.\n"
     ]
    },
    {
     "name": "stderr",
     "output_type": "stream",
     "text": [
      "/usr/local/lib/python3.9/site-packages/sklearn/linear_model/_sag.py:328: ConvergenceWarning: The max_iter was reached which means the coef_ did not converge\n",
      "  warnings.warn(\"The max_iter was reached which means \"\n"
     ]
    }
   ],
   "source": [
    "clf = LogisticRegression(solver='saga')\n",
    "clf.fit(train, y_train)\n",
    "print(f'Logistic regression training accuracy: {accuracy_score(clf.predict(train), y_train)}.')\n",
    "print(f'Logistic regression test accuracy: {accuracy_score(clf.predict(test), y_test)}.')"
   ]
  }
 ],
 "metadata": {
  "kernelspec": {
   "display_name": "Python 3",
   "language": "python",
   "name": "python3"
  },
  "language_info": {
   "codemirror_mode": {
    "name": "ipython",
    "version": 3
   },
   "file_extension": ".py",
   "mimetype": "text/x-python",
   "name": "python",
   "nbconvert_exporter": "python",
   "pygments_lexer": "ipython3",
   "version": "3.9.7"
  }
 },
 "nbformat": 4,
 "nbformat_minor": 5
}
