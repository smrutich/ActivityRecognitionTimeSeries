{
  "nbformat": 4,
  "nbformat_minor": 0,
  "metadata": {
    "colab": {
      "name": "CIS520 project.ipynb",
      "provenance": []
    },
    "kernelspec": {
      "name": "python3",
      "display_name": "Python 3"
    },
    "language_info": {
      "name": "python"
    }
  },
  "cells": [
    {
      "cell_type": "code",
      "metadata": {
        "colab": {
          "base_uri": "https://localhost:8080/"
        },
        "id": "AZt7SE2UwG-R",
        "outputId": "114de2d3-d4c7-4dce-9ad0-eeafaca8cca5"
      },
      "source": [
        "from google.colab import drive\n",
        "drive.mount('/content/drive')\n"
      ],
      "execution_count": 1,
      "outputs": [
        {
          "output_type": "stream",
          "name": "stdout",
          "text": [
            "Mounted at /content/drive\n"
          ]
        }
      ]
    },
    {
      "cell_type": "code",
      "metadata": {
        "id": "IPo8FBqHwnIQ"
      },
      "source": [
        "import pandas as pd #data processing\n",
        "import numpy as np #array processing \n",
        "import matplotlib.pyplot as plt #plotting\n",
        "\n",
        "from sklearn.preprocessing import LabelEncoder #multiclass encoding\n",
        "from sklearn.model_selection import train_test_split \n",
        "\n",
        "from mlxtend.plotting import plot_confusion_matrix\n",
        "from sklearn.metrics import confusion_matrix"
      ],
      "execution_count": 2,
      "outputs": []
    },
    {
      "cell_type": "code",
      "metadata": {
        "colab": {
          "base_uri": "https://localhost:8080/"
        },
        "id": "8Vx9eiAw5Jn7",
        "outputId": "1d32a59e-f475-4f6f-8523-1abe4ed7f219"
      },
      "source": [
        "import tensorflow as tf\n",
        "from tensorflow import keras\n",
        "from tensorflow.keras import Sequential\n",
        "from tensorflow.keras.layers import Flatten, Dense, Dropout, BatchNormalization\n",
        "from tensorflow.keras.layers import Conv2D, MaxPool2D\n",
        "from tensorflow.keras.optimizers import Adam\n",
        "print(tf.__version__)"
      ],
      "execution_count": 3,
      "outputs": [
        {
          "output_type": "stream",
          "name": "stdout",
          "text": [
            "2.7.0\n"
          ]
        }
      ]
    },
    {
      "cell_type": "code",
      "metadata": {
        "id": "XPP6l5sXFndK"
      },
      "source": [
        "!pip install keras-tuner --upgrade"
      ],
      "execution_count": null,
      "outputs": []
    },
    {
      "cell_type": "code",
      "metadata": {
        "id": "SzCbWRuhwaw0"
      },
      "source": [
        "data = pd.read_csv('/content/drive/MyDrive/preProcessed_data.csv')"
      ],
      "execution_count": 43,
      "outputs": []
    },
    {
      "cell_type": "code",
      "metadata": {
        "colab": {
          "base_uri": "https://localhost:8080/"
        },
        "id": "ciEqupIZ3QsN",
        "outputId": "98b1039e-7b31-4d7e-852f-3ba54d286de4"
      },
      "source": [
        "data.shape"
      ],
      "execution_count": 44,
      "outputs": [
        {
          "output_type": "execute_result",
          "data": {
            "text/plain": [
              "(1098208, 6)"
            ]
          },
          "metadata": {},
          "execution_count": 44
        }
      ]
    },
    {
      "cell_type": "code",
      "metadata": {
        "colab": {
          "base_uri": "https://localhost:8080/",
          "height": 204
        },
        "id": "sG-utIzBwo3t",
        "outputId": "1b204d3b-15d5-480c-c0d1-2b3075937392"
      },
      "source": [
        "data.head()"
      ],
      "execution_count": 45,
      "outputs": [
        {
          "output_type": "execute_result",
          "data": {
            "text/html": [
              "<div>\n",
              "<style scoped>\n",
              "    .dataframe tbody tr th:only-of-type {\n",
              "        vertical-align: middle;\n",
              "    }\n",
              "\n",
              "    .dataframe tbody tr th {\n",
              "        vertical-align: top;\n",
              "    }\n",
              "\n",
              "    .dataframe thead th {\n",
              "        text-align: right;\n",
              "    }\n",
              "</style>\n",
              "<table border=\"1\" class=\"dataframe\">\n",
              "  <thead>\n",
              "    <tr style=\"text-align: right;\">\n",
              "      <th></th>\n",
              "      <th>personId</th>\n",
              "      <th>class</th>\n",
              "      <th>timestamp</th>\n",
              "      <th>x</th>\n",
              "      <th>y</th>\n",
              "      <th>z</th>\n",
              "    </tr>\n",
              "  </thead>\n",
              "  <tbody>\n",
              "    <tr>\n",
              "      <th>0</th>\n",
              "      <td>1</td>\n",
              "      <td>Walking</td>\n",
              "      <td>4991922345000</td>\n",
              "      <td>0.69</td>\n",
              "      <td>10.80</td>\n",
              "      <td>-2.03</td>\n",
              "    </tr>\n",
              "    <tr>\n",
              "      <th>1</th>\n",
              "      <td>1</td>\n",
              "      <td>Walking</td>\n",
              "      <td>4991972333000</td>\n",
              "      <td>6.85</td>\n",
              "      <td>7.44</td>\n",
              "      <td>-0.50</td>\n",
              "    </tr>\n",
              "    <tr>\n",
              "      <th>2</th>\n",
              "      <td>1</td>\n",
              "      <td>Walking</td>\n",
              "      <td>4992022351000</td>\n",
              "      <td>0.93</td>\n",
              "      <td>5.63</td>\n",
              "      <td>-0.50</td>\n",
              "    </tr>\n",
              "    <tr>\n",
              "      <th>3</th>\n",
              "      <td>1</td>\n",
              "      <td>Walking</td>\n",
              "      <td>4992072339000</td>\n",
              "      <td>-2.11</td>\n",
              "      <td>5.01</td>\n",
              "      <td>-0.69</td>\n",
              "    </tr>\n",
              "    <tr>\n",
              "      <th>4</th>\n",
              "      <td>1</td>\n",
              "      <td>Walking</td>\n",
              "      <td>4992122358000</td>\n",
              "      <td>-4.59</td>\n",
              "      <td>4.29</td>\n",
              "      <td>-1.95</td>\n",
              "    </tr>\n",
              "  </tbody>\n",
              "</table>\n",
              "</div>"
            ],
            "text/plain": [
              "   personId    class      timestamp     x      y     z\n",
              "0         1  Walking  4991922345000  0.69  10.80 -2.03\n",
              "1         1  Walking  4991972333000  6.85   7.44 -0.50\n",
              "2         1  Walking  4992022351000  0.93   5.63 -0.50\n",
              "3         1  Walking  4992072339000 -2.11   5.01 -0.69\n",
              "4         1  Walking  4992122358000 -4.59   4.29 -1.95"
            ]
          },
          "metadata": {},
          "execution_count": 45
        }
      ]
    },
    {
      "cell_type": "code",
      "metadata": {
        "colab": {
          "base_uri": "https://localhost:8080/"
        },
        "id": "PBNr7rIJxEq8",
        "outputId": "c1b9888f-e707-4d0e-81a3-43746e36f326"
      },
      "source": [
        "data.dtypes"
      ],
      "execution_count": 46,
      "outputs": [
        {
          "output_type": "execute_result",
          "data": {
            "text/plain": [
              "personId       int64\n",
              "class         object\n",
              "timestamp      int64\n",
              "x            float64\n",
              "y            float64\n",
              "z            float64\n",
              "dtype: object"
            ]
          },
          "metadata": {},
          "execution_count": 46
        }
      ]
    },
    {
      "cell_type": "code",
      "metadata": {
        "id": "9a4iYXQsxGCG"
      },
      "source": [
        "data.sort_values(['personId','timestamp'],inplace=True)"
      ],
      "execution_count": 47,
      "outputs": []
    },
    {
      "cell_type": "code",
      "metadata": {
        "colab": {
          "base_uri": "https://localhost:8080/"
        },
        "id": "EhQU3tHcxGh_",
        "outputId": "988184b1-aa9c-4a75-fe8b-e7533080cf92"
      },
      "source": [
        "data['class'].value_counts().min()"
      ],
      "execution_count": 48,
      "outputs": [
        {
          "output_type": "execute_result",
          "data": {
            "text/plain": [
              "48395"
            ]
          },
          "metadata": {},
          "execution_count": 48
        }
      ]
    },
    {
      "cell_type": "code",
      "metadata": {
        "id": "z_MxdRcYwkrr"
      },
      "source": [
        "# data.groupby('personId').size()"
      ],
      "execution_count": 52,
      "outputs": []
    },
    {
      "cell_type": "code",
      "metadata": {
        "id": "R0xV37ehxkhP"
      },
      "source": [
        "balanced_data = pd.DataFrame()\n",
        "for i in data['class'].unique():\n",
        "  balanced_data=balanced_data.append(data.iloc[data[data['class']==i].index[:48395]].copy())"
      ],
      "execution_count": 53,
      "outputs": []
    },
    {
      "cell_type": "code",
      "metadata": {
        "colab": {
          "base_uri": "https://localhost:8080/"
        },
        "id": "NkiOXOPFyGHi",
        "outputId": "ffaea97c-d6b7-4891-8f81-de49cf0d00ba"
      },
      "source": [
        "balanced_data['class'].value_counts()"
      ],
      "execution_count": 54,
      "outputs": [
        {
          "output_type": "execute_result",
          "data": {
            "text/plain": [
              "Sitting       48395\n",
              "Walking       48395\n",
              "Downstairs    48395\n",
              "Standing      48395\n",
              "Upstairs      48395\n",
              "Jogging       48395\n",
              "Name: class, dtype: int64"
            ]
          },
          "metadata": {},
          "execution_count": 54
        }
      ]
    },
    {
      "cell_type": "code",
      "metadata": {
        "colab": {
          "base_uri": "https://localhost:8080/",
          "height": 204
        },
        "id": "FNXvE7BgxLv-",
        "outputId": "be2a3453-3874-4cfa-e43f-34f67dded505"
      },
      "source": [
        "encoder = LabelEncoder()\n",
        "balanced_data['label'] = encoder.fit_transform(balanced_data['class'])\n",
        "balanced_data.head()"
      ],
      "execution_count": 55,
      "outputs": [
        {
          "output_type": "execute_result",
          "data": {
            "text/html": [
              "<div>\n",
              "<style scoped>\n",
              "    .dataframe tbody tr th:only-of-type {\n",
              "        vertical-align: middle;\n",
              "    }\n",
              "\n",
              "    .dataframe tbody tr th {\n",
              "        vertical-align: top;\n",
              "    }\n",
              "\n",
              "    .dataframe thead th {\n",
              "        text-align: right;\n",
              "    }\n",
              "</style>\n",
              "<table border=\"1\" class=\"dataframe\">\n",
              "  <thead>\n",
              "    <tr style=\"text-align: right;\">\n",
              "      <th></th>\n",
              "      <th>personId</th>\n",
              "      <th>class</th>\n",
              "      <th>timestamp</th>\n",
              "      <th>x</th>\n",
              "      <th>y</th>\n",
              "      <th>z</th>\n",
              "      <th>label</th>\n",
              "    </tr>\n",
              "  </thead>\n",
              "  <tbody>\n",
              "    <tr>\n",
              "      <th>0</th>\n",
              "      <td>1</td>\n",
              "      <td>Walking</td>\n",
              "      <td>4991922345000</td>\n",
              "      <td>0.69</td>\n",
              "      <td>10.80</td>\n",
              "      <td>-2.03</td>\n",
              "      <td>5</td>\n",
              "    </tr>\n",
              "    <tr>\n",
              "      <th>1</th>\n",
              "      <td>1</td>\n",
              "      <td>Walking</td>\n",
              "      <td>4991972333000</td>\n",
              "      <td>6.85</td>\n",
              "      <td>7.44</td>\n",
              "      <td>-0.50</td>\n",
              "      <td>5</td>\n",
              "    </tr>\n",
              "    <tr>\n",
              "      <th>2</th>\n",
              "      <td>1</td>\n",
              "      <td>Walking</td>\n",
              "      <td>4992022351000</td>\n",
              "      <td>0.93</td>\n",
              "      <td>5.63</td>\n",
              "      <td>-0.50</td>\n",
              "      <td>5</td>\n",
              "    </tr>\n",
              "    <tr>\n",
              "      <th>3</th>\n",
              "      <td>1</td>\n",
              "      <td>Walking</td>\n",
              "      <td>4992072339000</td>\n",
              "      <td>-2.11</td>\n",
              "      <td>5.01</td>\n",
              "      <td>-0.69</td>\n",
              "      <td>5</td>\n",
              "    </tr>\n",
              "    <tr>\n",
              "      <th>4</th>\n",
              "      <td>1</td>\n",
              "      <td>Walking</td>\n",
              "      <td>4992122358000</td>\n",
              "      <td>-4.59</td>\n",
              "      <td>4.29</td>\n",
              "      <td>-1.95</td>\n",
              "      <td>5</td>\n",
              "    </tr>\n",
              "  </tbody>\n",
              "</table>\n",
              "</div>"
            ],
            "text/plain": [
              "   personId    class      timestamp     x      y     z  label\n",
              "0         1  Walking  4991922345000  0.69  10.80 -2.03      5\n",
              "1         1  Walking  4991972333000  6.85   7.44 -0.50      5\n",
              "2         1  Walking  4992022351000  0.93   5.63 -0.50      5\n",
              "3         1  Walking  4992072339000 -2.11   5.01 -0.69      5\n",
              "4         1  Walking  4992122358000 -4.59   4.29 -1.95      5"
            ]
          },
          "metadata": {},
          "execution_count": 55
        }
      ]
    },
    {
      "cell_type": "code",
      "metadata": {
        "id": "X_IM4d8-xu2a"
      },
      "source": [
        ""
      ],
      "execution_count": null,
      "outputs": []
    },
    {
      "cell_type": "code",
      "metadata": {
        "colab": {
          "base_uri": "https://localhost:8080/"
        },
        "id": "rX0qeL8KyqxC",
        "outputId": "b262f199-cf0e-423d-f441-7c43370a4ccf"
      },
      "source": [
        "encoder.classes_"
      ],
      "execution_count": 57,
      "outputs": [
        {
          "output_type": "execute_result",
          "data": {
            "text/plain": [
              "array(['Downstairs', 'Jogging', 'Sitting', 'Standing', 'Upstairs',\n",
              "       'Walking'], dtype=object)"
            ]
          },
          "metadata": {},
          "execution_count": 57
        }
      ]
    },
    {
      "cell_type": "code",
      "metadata": {
        "id": "EGiEmLEkyzab"
      },
      "source": [
        "def time_segments(data, size, stride,p):\n",
        "    segment = []\n",
        "    labels = []\n",
        "\n",
        "    # make segments of t seconds block with stride\n",
        "    for i in range(0, len(data) - size, stride):\n",
        "        if data['personId'].iloc[i:i+size].nunique()>1:\n",
        "          continue     \n",
        "        segment.append([data['x'].iloc[i:i+size], data['y'].iloc[i:i+size], data['z'].iloc[i:i+size]])\n",
        "        # Retrieve the most often used label in this segment\n",
        "        labels.append(data['label'].iloc[i:i+size].mode()[0])\n",
        "\n",
        "    # Bring the segments into a better shape\n",
        "    segment = np.asarray(segment).reshape(-1, size, p)\n",
        "    labels = np.asarray(labels)\n",
        "\n",
        "    return segment, labels"
      ],
      "execution_count": 61,
      "outputs": []
    },
    {
      "cell_type": "code",
      "metadata": {
        "colab": {
          "base_uri": "https://localhost:8080/"
        },
        "id": "F97Kt9340D1T",
        "outputId": "cb743abe-0cc5-4c7c-fa63-e52748cef9dc"
      },
      "source": [
        "reading_per_second = 20\n",
        "size = reading_per_second*10 # 200 records for t seconds \n",
        "stride = reading_per_second*2 # 80 records jump\n",
        "\n",
        "print(size,stride)"
      ],
      "execution_count": 62,
      "outputs": [
        {
          "output_type": "stream",
          "name": "stdout",
          "text": [
            "200 40\n"
          ]
        }
      ]
    },
    {
      "cell_type": "code",
      "metadata": {
        "colab": {
          "base_uri": "https://localhost:8080/"
        },
        "id": "j1yfy4Mx2ddq",
        "outputId": "920abc8e-d63b-47d8-b669-ddd2e5853db2"
      },
      "source": [
        "X, y = time_segments(balanced_data, size, stride,p=3)\n",
        "X.shape, y.shape"
      ],
      "execution_count": 69,
      "outputs": [
        {
          "output_type": "execute_result",
          "data": {
            "text/plain": [
              "((6832, 200, 3), (6832,))"
            ]
          },
          "metadata": {},
          "execution_count": 69
        }
      ]
    },
    {
      "cell_type": "code",
      "metadata": {
        "id": "oHBkVSgjwv4l"
      },
      "source": [
        "data.drop(['personId','timestamp'],axis=1,inplace=True)"
      ],
      "execution_count": 10,
      "outputs": []
    },
    {
      "cell_type": "code",
      "metadata": {
        "colab": {
          "base_uri": "https://localhost:8080/"
        },
        "id": "Or5NZPkT2dYl",
        "outputId": "25a9957d-d26f-4a20-8046-3c887dc17fd3"
      },
      "source": [
        "balanced_data.shape[0] /stride"
      ],
      "execution_count": 67,
      "outputs": [
        {
          "output_type": "execute_result",
          "data": {
            "text/plain": [
              "7259.25"
            ]
          },
          "metadata": {},
          "execution_count": 67
        }
      ]
    },
    {
      "cell_type": "code",
      "metadata": {
        "colab": {
          "base_uri": "https://localhost:8080/"
        },
        "id": "G1d04pGz3M5W",
        "outputId": "e904a17c-cc6f-4999-c683-967e5b7b0f04"
      },
      "source": [
        "X_train, X_test, y_train, y_test = train_test_split(X, y, test_size = 0.15, random_state = 0, stratify = y)\n",
        "X_train, X_val, y_train, y_val = train_test_split(X_train, y_train, test_size=0.20, random_state=1) \n",
        "print(X_train.shape, X_val.shape,X_test.shape)"
      ],
      "execution_count": 85,
      "outputs": [
        {
          "output_type": "stream",
          "name": "stdout",
          "text": [
            "(4645, 200, 3) (1162, 200, 3) (1025, 200, 3)\n"
          ]
        }
      ]
    },
    {
      "cell_type": "code",
      "metadata": {
        "id": "ULckCOfS41za"
      },
      "source": [
        "X_train = X_train.reshape(X_train.shape[0], size, 3, 1)\n",
        "X_test = X_test.reshape(X_test.shape[0], size, 3, 1)\n",
        "X_val = X_val.reshape(X_val.shape[0], size, 3, 1)"
      ],
      "execution_count": 86,
      "outputs": []
    },
    {
      "cell_type": "markdown",
      "metadata": {
        "id": "Rbg2yY6_5_xV"
      },
      "source": [
        "Required functions"
      ]
    },
    {
      "cell_type": "code",
      "metadata": {
        "id": "iwt1SgFq6BOL"
      },
      "source": [
        "def plot_learningCurve(history, epochs):\n",
        "  # Plot training & validation accuracy values\n",
        "  epoch_range = range(1, epochs+1)\n",
        "  plt.plot(epoch_range, history.history['accuracy'])\n",
        "  plt.plot(epoch_range, history.history['val_accuracy'])\n",
        "  plt.title('Model accuracy')\n",
        "  plt.ylabel('Accuracy')\n",
        "  plt.xlabel('Epoch')\n",
        "  plt.legend(['Train', 'Val'], loc='upper left')\n",
        "  plt.show()\n",
        "\n",
        "  # Plot training & validation loss values\n",
        "  plt.plot(epoch_range, history.history['loss'])\n",
        "  plt.plot(epoch_range, history.history['val_loss'])\n",
        "  plt.title('Model loss')\n",
        "  plt.ylabel('Loss')\n",
        "  plt.xlabel('Epoch')\n",
        "  plt.legend(['Train', 'Val'], loc='upper left')\n",
        "  plt.show()"
      ],
      "execution_count": 87,
      "outputs": []
    },
    {
      "cell_type": "markdown",
      "metadata": {
        "id": "j0aQamCt5zk-"
      },
      "source": [
        "## **Convolution 2d**"
      ]
    },
    {
      "cell_type": "code",
      "metadata": {
        "colab": {
          "base_uri": "https://localhost:8080/"
        },
        "id": "34HMkvHo_ObG",
        "outputId": "14755be1-a838-4003-c936-2b1682c98a95"
      },
      "source": [
        "X_train.shape"
      ],
      "execution_count": 88,
      "outputs": [
        {
          "output_type": "execute_result",
          "data": {
            "text/plain": [
              "(4645, 200, 3, 1)"
            ]
          },
          "metadata": {},
          "execution_count": 88
        }
      ]
    },
    {
      "cell_type": "code",
      "metadata": {
        "colab": {
          "base_uri": "https://localhost:8080/"
        },
        "id": "xD98AtE5-QuR",
        "outputId": "0649b6c5-30d1-4691-fea3-08a1aba6ffbf"
      },
      "source": [
        "X_train[0].shape"
      ],
      "execution_count": 89,
      "outputs": [
        {
          "output_type": "execute_result",
          "data": {
            "text/plain": [
              "(200, 3, 1)"
            ]
          },
          "metadata": {},
          "execution_count": 89
        }
      ]
    },
    {
      "cell_type": "markdown",
      "metadata": {
        "id": "T9-3ZmZe_9qP"
      },
      "source": [
        "**filters = 16,32 -> epoch 20** \\\\\n",
        "loss: 0.4292 - accuracy: 0.7974 - val_loss: 0.3976 - val_accuracy: 0.8512 \\\\"
      ]
    },
    {
      "cell_type": "code",
      "metadata": {
        "id": "6lx8P90X32wN"
      },
      "source": [
        "model = Sequential()\n",
        "model.add(Conv2D(filters=32, kernel_size=(2, 2), activation = 'relu', input_shape = X_train[0].shape))\n",
        "model.add(Dropout(0.1))\n",
        "\n",
        "model.add(Conv2D(filters=64, kernel_size=(2, 2), activation='relu'))\n",
        "model.add(Dropout(0.2))\n",
        "\n",
        "model.add(Flatten())\n",
        "\n",
        "model.add(Dense(64, activation = 'relu'))\n",
        "model.add(Dropout(0.5))\n",
        "\n",
        "model.add(Dense(6, activation='softmax'))"
      ],
      "execution_count": 90,
      "outputs": []
    },
    {
      "cell_type": "code",
      "metadata": {
        "id": "wowGg3Oz5T76"
      },
      "source": [
        "model.compile(optimizer=Adam(learning_rate = 0.001), loss = 'sparse_categorical_crossentropy', metrics = ['accuracy'])"
      ],
      "execution_count": 91,
      "outputs": []
    },
    {
      "cell_type": "code",
      "metadata": {
        "colab": {
          "base_uri": "https://localhost:8080/"
        },
        "id": "LXNI8KoP5aTF",
        "outputId": "5393a658-c053-4873-842c-7a694bbad70a"
      },
      "source": [
        "model.summary()"
      ],
      "execution_count": 92,
      "outputs": [
        {
          "output_type": "stream",
          "name": "stdout",
          "text": [
            "Model: \"sequential_3\"\n",
            "_________________________________________________________________\n",
            " Layer (type)                Output Shape              Param #   \n",
            "=================================================================\n",
            " conv2d_5 (Conv2D)           (None, 199, 2, 32)        160       \n",
            "                                                                 \n",
            " dropout_8 (Dropout)         (None, 199, 2, 32)        0         \n",
            "                                                                 \n",
            " conv2d_6 (Conv2D)           (None, 198, 1, 64)        8256      \n",
            "                                                                 \n",
            " dropout_9 (Dropout)         (None, 198, 1, 64)        0         \n",
            "                                                                 \n",
            " flatten_3 (Flatten)         (None, 12672)             0         \n",
            "                                                                 \n",
            " dense_6 (Dense)             (None, 64)                811072    \n",
            "                                                                 \n",
            " dropout_10 (Dropout)        (None, 64)                0         \n",
            "                                                                 \n",
            " dense_7 (Dense)             (None, 6)                 390       \n",
            "                                                                 \n",
            "=================================================================\n",
            "Total params: 819,878\n",
            "Trainable params: 819,878\n",
            "Non-trainable params: 0\n",
            "_________________________________________________________________\n"
          ]
        }
      ]
    },
    {
      "cell_type": "code",
      "metadata": {
        "colab": {
          "base_uri": "https://localhost:8080/"
        },
        "id": "VmCuJefL5b8N",
        "outputId": "26b25c96-dd11-44e8-8be7-f3736d8de290"
      },
      "source": [
        "history = model.fit(X_train, y_train, epochs = 10, validation_data= (X_test, y_test), verbose=1)"
      ],
      "execution_count": 93,
      "outputs": [
        {
          "output_type": "stream",
          "name": "stdout",
          "text": [
            "Epoch 1/10\n",
            "146/146 [==============================] - 6s 35ms/step - loss: 1.0742 - accuracy: 0.5709 - val_loss: 0.6790 - val_accuracy: 0.7346\n",
            "Epoch 2/10\n",
            "146/146 [==============================] - 5s 35ms/step - loss: 0.7861 - accuracy: 0.6652 - val_loss: 0.5551 - val_accuracy: 0.7493\n",
            "Epoch 3/10\n",
            "146/146 [==============================] - 5s 34ms/step - loss: 0.6440 - accuracy: 0.7085 - val_loss: 0.5024 - val_accuracy: 0.7795\n",
            "Epoch 4/10\n",
            "146/146 [==============================] - 5s 34ms/step - loss: 0.5471 - accuracy: 0.7455 - val_loss: 0.4387 - val_accuracy: 0.8263\n",
            "Epoch 5/10\n",
            "146/146 [==============================] - 5s 35ms/step - loss: 0.5115 - accuracy: 0.7651 - val_loss: 0.3717 - val_accuracy: 0.8459\n",
            "Epoch 6/10\n",
            "146/146 [==============================] - 5s 34ms/step - loss: 0.4557 - accuracy: 0.7927 - val_loss: 0.3868 - val_accuracy: 0.8429\n",
            "Epoch 7/10\n",
            "146/146 [==============================] - 5s 34ms/step - loss: 0.4053 - accuracy: 0.8161 - val_loss: 0.3143 - val_accuracy: 0.8576\n",
            "Epoch 8/10\n",
            "146/146 [==============================] - 5s 34ms/step - loss: 0.3874 - accuracy: 0.8263 - val_loss: 0.3127 - val_accuracy: 0.8527\n",
            "Epoch 9/10\n",
            "146/146 [==============================] - 5s 34ms/step - loss: 0.3508 - accuracy: 0.8450 - val_loss: 0.2587 - val_accuracy: 0.8985\n",
            "Epoch 10/10\n",
            "146/146 [==============================] - 5s 35ms/step - loss: 0.3134 - accuracy: 0.8678 - val_loss: 0.3521 - val_accuracy: 0.8683\n"
          ]
        }
      ]
    },
    {
      "cell_type": "code",
      "metadata": {
        "colab": {
          "base_uri": "https://localhost:8080/",
          "height": 573
        },
        "id": "IhxVfHwo5iQ9",
        "outputId": "6040555c-f0f9-497f-ecf2-14e12de2e58b"
      },
      "source": [
        "plot_learningCurve(history, 10)"
      ],
      "execution_count": 94,
      "outputs": [
        {
          "output_type": "display_data",
          "data": {
            "image/png": "[encoded data removed]",
            "text/plain": [
              "<Figure size 432x288 with 1 Axes>"
            ]
          },
          "metadata": {
            "needs_background": "light"
          }
        },
        {
          "output_type": "display_data",
          "data": {
            "image/png": "[encoded data removed]",
            "text/plain": [
              "<Figure size 432x288 with 1 Axes>"
            ]
          },
          "metadata": {
            "needs_background": "light"
          }
        }
      ]
    },
    {
      "cell_type": "markdown",
      "metadata": {
        "id": "P4UbcJFc6HER"
      },
      "source": [
        "We can consider more epochs"
      ]
    },
    {
      "cell_type": "code",
      "metadata": {
        "id": "FROQ8SKb5w48"
      },
      "source": [
        "history = model.fit(X_train, y_train, epochs = 20, validation_data= (X_test, y_test), verbose=1)"
      ],
      "execution_count": null,
      "outputs": []
    },
    {
      "cell_type": "code",
      "metadata": {
        "id": "CoJq8Cpt6Wih"
      },
      "source": [
        "plot_learningCurve(history, 20)"
      ],
      "execution_count": null,
      "outputs": []
    },
    {
      "cell_type": "markdown",
      "metadata": {
        "id": "SRO2FZfUJF4F"
      },
      "source": [
        "Tune CNN Models"
      ]
    },
    {
      "cell_type": "code",
      "metadata": {
        "id": "TWWzNqlSFXxH"
      },
      "source": [
        "def build_model(hp):\n",
        "  model = keras.Sequential([\n",
        "  keras.layers.Conv2D(\n",
        "      #adding filter \n",
        "      filters=hp.Int('conv_1_filter', min_value=16, max_value=128, step=16),\n",
        "      # adding filter size or kernel size\n",
        "      kernel_size=hp.Choice('conv_1_kernel', values = [1,2]),\n",
        "      #activation function\n",
        "      activation='relu',\n",
        "      input_shape=(200,3,1)),\n",
        "  Dropout(hp.Choice('rate', values=[0.1, 0.2])),\n",
        "  keras.layers.Conv2D(\n",
        "      #adding filter \n",
        "      filters=hp.Int('conv_1_filter', min_value=16, max_value=128, step=16),\n",
        "      # adding filter size or kernel size\n",
        "      kernel_size=hp.Choice('conv_1_kernel', values = [1,2]),\n",
        "      #activation function\n",
        "      activation='relu'),\n",
        "  Dropout(hp.Choice('rate', values=[0.2,0.3,0.4])),\n",
        "  Flatten(),\n",
        "  keras.layers.Dense(hp.Choice('units', [32,64,128]), activation='relu'),\n",
        "  Dropout(0.5),\n",
        "  keras.layers.Dense(6, activation='softmax')]\n",
        "  )\n",
        "  model.compile(optimizer=keras.optimizers.Adam(hp.Choice('learning_rate', values=[1e-2, 1e-3])),\n",
        "              loss='sparse_categorical_crossentropy',\n",
        "              metrics=['accuracy'])\n",
        "  return model"
      ],
      "execution_count": 36,
      "outputs": []
    },
    {
      "cell_type": "code",
      "metadata": {
        "colab": {
          "base_uri": "https://localhost:8080/"
        },
        "id": "OnPkdTK1EsIa",
        "outputId": "17c7339f-3deb-49fc-e169-a8b2a678772b"
      },
      "source": [
        "from kerastuner import RandomSearch\n",
        "#creating randomsearch object\n",
        "tuner = RandomSearch(build_model,\n",
        "                    objective='val_loss',\n",
        "                    max_trials = 5,overwrite = True)\n",
        "# search best parameter\n",
        "tuner.search(X_train,y_train,epochs=3,validation_data=(X_val,y_val))"
      ],
      "execution_count": 37,
      "outputs": [
        {
          "output_type": "stream",
          "name": "stdout",
          "text": [
            "Trial 5 Complete [00h 00m 41s]\n",
            "val_loss: 0.9387630224227905\n",
            "\n",
            "Best val_loss So Far: 0.47428029775619507\n",
            "Total elapsed time: 00h 02m 47s\n",
            "INFO:tensorflow:Oracle triggered exit\n"
          ]
        }
      ]
    },
    {
      "cell_type": "code",
      "metadata": {
        "id": "x2OPhtR2J0_7"
      },
      "source": [
        "keras.backend.clear_session()"
      ],
      "execution_count": 250,
      "outputs": []
    },
    {
      "cell_type": "code",
      "metadata": {
        "colab": {
          "base_uri": "https://localhost:8080/"
        },
        "id": "V1r42QDmIvdD",
        "outputId": "8f2c0a15-a470-4ff4-ef73-abae75b6e7af"
      },
      "source": [
        "model=tuner.get_best_models(num_models=1)[0]\n",
        "#summary of best model\n",
        "model.summary()"
      ],
      "execution_count": 38,
      "outputs": [
        {
          "output_type": "stream",
          "name": "stdout",
          "text": [
            "Model: \"sequential\"\n",
            "_________________________________________________________________\n",
            " Layer (type)                Output Shape              Param #   \n",
            "=================================================================\n",
            " conv2d (Conv2D)             (None, 199, 2, 64)        320       \n",
            "                                                                 \n",
            " dropout (Dropout)           (None, 199, 2, 64)        0         \n",
            "                                                                 \n",
            " conv2d_1 (Conv2D)           (None, 198, 1, 64)        16448     \n",
            "                                                                 \n",
            " dropout_1 (Dropout)         (None, 198, 1, 64)        0         \n",
            "                                                                 \n",
            " flatten (Flatten)           (None, 12672)             0         \n",
            "                                                                 \n",
            " dense (Dense)               (None, 32)                405536    \n",
            "                                                                 \n",
            " dropout_2 (Dropout)         (None, 32)                0         \n",
            "                                                                 \n",
            " dense_1 (Dense)             (None, 6)                 198       \n",
            "                                                                 \n",
            "=================================================================\n",
            "Total params: 422,502\n",
            "Trainable params: 422,502\n",
            "Non-trainable params: 0\n",
            "_________________________________________________________________\n"
          ]
        }
      ]
    },
    {
      "cell_type": "code",
      "metadata": {
        "colab": {
          "base_uri": "https://localhost:8080/"
        },
        "id": "npwSfEuPo9aB",
        "outputId": "2613ca23-40d2-4b1c-dcdf-2e3e743d4ae3"
      },
      "source": [
        "history = model.fit(X_train, y_train, epochs = 20, validation_data= (X_test, y_test), verbose=1)"
      ],
      "execution_count": 40,
      "outputs": [
        {
          "output_type": "stream",
          "name": "stdout",
          "text": [
            "Epoch 1/20\n",
            "155/155 [==============================] - 7s 45ms/step - loss: 0.5410 - accuracy: 0.7472 - val_loss: 0.3410 - val_accuracy: 0.8549\n",
            "Epoch 2/20\n",
            "155/155 [==============================] - 7s 45ms/step - loss: 0.5337 - accuracy: 0.7630 - val_loss: 0.3539 - val_accuracy: 0.8283\n",
            "Epoch 3/20\n",
            "155/155 [==============================] - 7s 45ms/step - loss: 0.4990 - accuracy: 0.7786 - val_loss: 0.2822 - val_accuracy: 0.8742\n",
            "Epoch 4/20\n",
            "155/155 [==============================] - 7s 45ms/step - loss: 0.4870 - accuracy: 0.7778 - val_loss: 0.3060 - val_accuracy: 0.8577\n",
            "Epoch 5/20\n",
            "155/155 [==============================] - 7s 45ms/step - loss: 0.4794 - accuracy: 0.7853 - val_loss: 0.2765 - val_accuracy: 0.8659\n",
            "Epoch 6/20\n",
            "155/155 [==============================] - 7s 45ms/step - loss: 0.4548 - accuracy: 0.7914 - val_loss: 0.2796 - val_accuracy: 0.8843\n",
            "Epoch 7/20\n",
            "155/155 [==============================] - 7s 45ms/step - loss: 0.4707 - accuracy: 0.7863 - val_loss: 0.2810 - val_accuracy: 0.8797\n",
            "Epoch 8/20\n",
            "155/155 [==============================] - 7s 44ms/step - loss: 0.4344 - accuracy: 0.7974 - val_loss: 0.2489 - val_accuracy: 0.8935\n",
            "Epoch 9/20\n",
            "155/155 [==============================] - 7s 45ms/step - loss: 0.4239 - accuracy: 0.7942 - val_loss: 0.2579 - val_accuracy: 0.8898\n",
            "Epoch 10/20\n",
            "155/155 [==============================] - 7s 44ms/step - loss: 0.4214 - accuracy: 0.7881 - val_loss: 0.2414 - val_accuracy: 0.8981\n",
            "Epoch 11/20\n",
            "155/155 [==============================] - 7s 45ms/step - loss: 0.4096 - accuracy: 0.7930 - val_loss: 0.2615 - val_accuracy: 0.8779\n",
            "Epoch 12/20\n",
            "155/155 [==============================] - 7s 45ms/step - loss: 0.4147 - accuracy: 0.7853 - val_loss: 0.2651 - val_accuracy: 0.8714\n",
            "Epoch 13/20\n",
            "155/155 [==============================] - 7s 45ms/step - loss: 0.4033 - accuracy: 0.8003 - val_loss: 0.2432 - val_accuracy: 0.8898\n",
            "Epoch 14/20\n",
            "155/155 [==============================] - 7s 45ms/step - loss: 0.3966 - accuracy: 0.8029 - val_loss: 0.2381 - val_accuracy: 0.8907\n",
            "Epoch 15/20\n",
            "155/155 [==============================] - 7s 45ms/step - loss: 0.3927 - accuracy: 0.8124 - val_loss: 0.2563 - val_accuracy: 0.8806\n",
            "Epoch 16/20\n",
            "155/155 [==============================] - 7s 45ms/step - loss: 0.3861 - accuracy: 0.8167 - val_loss: 0.2352 - val_accuracy: 0.8990\n",
            "Epoch 17/20\n",
            "155/155 [==============================] - 7s 45ms/step - loss: 0.3995 - accuracy: 0.8120 - val_loss: 0.2225 - val_accuracy: 0.8999\n",
            "Epoch 18/20\n",
            "155/155 [==============================] - 7s 45ms/step - loss: 0.3882 - accuracy: 0.8210 - val_loss: 0.2193 - val_accuracy: 0.9017\n",
            "Epoch 19/20\n",
            "155/155 [==============================] - 7s 45ms/step - loss: 0.3825 - accuracy: 0.8173 - val_loss: 0.2387 - val_accuracy: 0.8990\n",
            "Epoch 20/20\n",
            "155/155 [==============================] - 7s 45ms/step - loss: 0.3772 - accuracy: 0.8270 - val_loss: 0.2169 - val_accuracy: 0.9091\n"
          ]
        }
      ]
    },
    {
      "cell_type": "markdown",
      "metadata": {
        "id": "bTlAv2TO638g"
      },
      "source": [
        "Evaluation \n",
        "1. Metrics\n",
        "2. Confusion Matrix"
      ]
    },
    {
      "cell_type": "code",
      "metadata": {
        "id": "gDsCsr2n9qig"
      },
      "source": [
        "loss, acc = model.evaluate(X, y, verbose=0)"
      ],
      "execution_count": null,
      "outputs": []
    },
    {
      "cell_type": "code",
      "metadata": {
        "id": "4vcI4wCa9slR"
      },
      "source": [
        "# logger.debug(f\"accuracy={accuracy_score(y_test, test_pred)}\")\n",
        "# logger.debug(f\"precision={precision_score(y_test, test_pred, average='macro')}\")\n",
        "# logger.debug(f\"recall={recall_score(y_test, test_pred, average='macro')}\")\n",
        "# logger.debug(f\"f1={f1_score(y_test, test_pred, average='macro')}\")\n",
        "# logger.debug(f\"per-class f1={f1_score(y_test, test_pred, average=None)}\")"
      ],
      "execution_count": null,
      "outputs": []
    },
    {
      "cell_type": "code",
      "metadata": {
        "id": "oetgNGoP7vUq"
      },
      "source": [
        "encoder.classes_"
      ],
      "execution_count": null,
      "outputs": []
    },
    {
      "cell_type": "code",
      "metadata": {
        "id": "5YzROR4U8JJd"
      },
      "source": [
        " y_pred.ravel().shape"
      ],
      "execution_count": null,
      "outputs": []
    },
    {
      "cell_type": "code",
      "metadata": {
        "id": "NvaGG-NJ8T0j"
      },
      "source": [
        "mat"
      ],
      "execution_count": null,
      "outputs": []
    },
    {
      "cell_type": "code",
      "metadata": {
        "id": "JQYVOgb17dkG"
      },
      "source": [
        ""
      ],
      "execution_count": null,
      "outputs": []
    },
    {
      "cell_type": "code",
      "metadata": {
        "id": "t58dpmbd6Kg7"
      },
      "source": [
        "y_pred = model.predict(X_test)\n",
        "y_pred=encoder.inverse_transform(np.argmax(y_pred, axis = 1).reshape(-1,1))\n",
        "mat = confusion_matrix(encoder.inverse_transform(y_test).ravel(), y_pred.ravel())\n",
        "plot_confusion_matrix(conf_mat=mat show_normed=True, figsize=(7,7))"
      ],
      "execution_count": null,
      "outputs": []
    },
    {
      "cell_type": "markdown",
      "metadata": {
        "id": "eOb8rGOIDrsT"
      },
      "source": [
        "## **RNN**"
      ]
    },
    {
      "cell_type": "code",
      "metadata": {
        "colab": {
          "base_uri": "https://localhost:8080/"
        },
        "id": "zVDFM9qpXbUb",
        "outputId": "d8411757-bbe6-4c14-a182-e2817dc468f5"
      },
      "source": [
        "X_train, X_test, y_train, y_test = train_test_split(X, y, test_size = 0.15, random_state = 0, stratify = y)\n",
        "X_train, X_val, y_train, y_val = train_test_split(X_train, y_train, test_size=0.20, random_state=1) \n",
        "print(X_train.shape, X_val.shape,X_test.shape)"
      ],
      "execution_count": 301,
      "outputs": [
        {
          "output_type": "stream",
          "name": "stdout",
          "text": [
            "(4932, 200, 3) (1234, 200, 3) (1089, 200, 3)\n"
          ]
        }
      ]
    },
    {
      "cell_type": "code",
      "metadata": {
        "id": "D6xvajUPaIKZ"
      },
      "source": [
        "(984, 1, 37) (984, 30) (30, 1, 37) (30, 30)"
      ],
      "execution_count": null,
      "outputs": []
    },
    {
      "cell_type": "code",
      "metadata": {
        "id": "aCgMc4rQa0oS"
      },
      "source": [
        "[batch_size, max_time, ...]"
      ],
      "execution_count": null,
      "outputs": []
    },
    {
      "cell_type": "code",
      "metadata": {
        "id": "imU8yIxUa1K8"
      },
      "source": [
        ""
      ],
      "execution_count": null,
      "outputs": []
    },
    {
      "cell_type": "code",
      "metadata": {
        "id": "TlJ2EQ3w7D87",
        "colab": {
          "base_uri": "https://localhost:8080/"
        },
        "outputId": "036de86e-794e-4855-b31d-1a07e7acab83"
      },
      "source": [
        "model = keras.Sequential()\n",
        "# Add a LSTM layer with 128 internal units.\n",
        "model.add(keras.layers.LSTM(128,input_shape=(X_train.shape[1], X_train.shape[2])))\n",
        "model.add(Dropout(0.1))\n",
        "# Add a Dense layer with 10 units.\n",
        "model.add(keras.layers.Dense(10))\n",
        "model.add(Dropout(0.2))\n",
        "model.add(Dense(6, activation='softmax'))\n",
        "\n",
        "model.summary()"
      ],
      "execution_count": 318,
      "outputs": [
        {
          "output_type": "stream",
          "name": "stdout",
          "text": [
            "Model: \"sequential_10\"\n",
            "_________________________________________________________________\n",
            " Layer (type)                Output Shape              Param #   \n",
            "=================================================================\n",
            " lstm_5 (LSTM)               (None, 128)               67584     \n",
            "                                                                 \n",
            " dropout_3 (Dropout)         (None, 128)               0         \n",
            "                                                                 \n",
            " dense_7 (Dense)             (None, 10)                1290      \n",
            "                                                                 \n",
            " dense_8 (Dense)             (None, 6)                 66        \n",
            "                                                                 \n",
            "=================================================================\n",
            "Total params: 68,940\n",
            "Trainable params: 68,940\n",
            "Non-trainable params: 0\n",
            "_________________________________________________________________\n"
          ]
        }
      ]
    },
    {
      "cell_type": "code",
      "metadata": {
        "id": "vcpwKjFVQd23"
      },
      "source": [
        "model.compile(optimizer=Adam(learning_rate = 0.001), loss = 'sparse_categorical_crossentropy', metrics = ['accuracy'])"
      ],
      "execution_count": 319,
      "outputs": []
    },
    {
      "cell_type": "code",
      "metadata": {
        "colab": {
          "base_uri": "https://localhost:8080/"
        },
        "id": "RI2l_lkyQvIH",
        "outputId": "8259eb24-b7a2-4df7-8212-748afc94f4e4"
      },
      "source": [
        "history = model.fit(X_train, y_train, epochs = 20, validation_data= (X_test, y_test), verbose=1)"
      ],
      "execution_count": 320,
      "outputs": [
        {
          "output_type": "stream",
          "name": "stdout",
          "text": [
            "Epoch 1/20\n",
            "155/155 [==============================] - 30s 183ms/step - loss: 0.9805 - accuracy: 0.5996 - val_loss: 0.6335 - val_accuracy: 0.7309\n",
            "Epoch 2/20\n",
            "155/155 [==============================] - 28s 178ms/step - loss: 0.5775 - accuracy: 0.7652 - val_loss: 0.5132 - val_accuracy: 0.7888\n",
            "Epoch 3/20\n",
            "155/155 [==============================] - 28s 179ms/step - loss: 0.4958 - accuracy: 0.8060 - val_loss: 0.4084 - val_accuracy: 0.8301\n",
            "Epoch 4/20\n",
            "155/155 [==============================] - 28s 181ms/step - loss: 0.4058 - accuracy: 0.8473 - val_loss: 0.3964 - val_accuracy: 0.8356\n",
            "Epoch 5/20\n",
            "155/155 [==============================] - 28s 182ms/step - loss: 0.4135 - accuracy: 0.8516 - val_loss: 0.4668 - val_accuracy: 0.8549\n",
            "Epoch 6/20\n",
            "155/155 [==============================] - 28s 182ms/step - loss: 0.3020 - accuracy: 0.8976 - val_loss: 0.2810 - val_accuracy: 0.9017\n",
            "Epoch 7/20\n",
            "155/155 [==============================] - 28s 179ms/step - loss: 0.3462 - accuracy: 0.8717 - val_loss: 0.3188 - val_accuracy: 0.8880\n",
            "Epoch 8/20\n",
            "155/155 [==============================] - 28s 179ms/step - loss: 0.2935 - accuracy: 0.8911 - val_loss: 0.2667 - val_accuracy: 0.9027\n",
            "Epoch 9/20\n",
            "155/155 [==============================] - 28s 180ms/step - loss: 0.2451 - accuracy: 0.9126 - val_loss: 0.2086 - val_accuracy: 0.9394\n",
            "Epoch 10/20\n",
            "155/155 [==============================] - 28s 178ms/step - loss: 0.2114 - accuracy: 0.9244 - val_loss: 0.2293 - val_accuracy: 0.9238\n",
            "Epoch 11/20\n",
            "155/155 [==============================] - 27s 177ms/step - loss: 0.2627 - accuracy: 0.9116 - val_loss: 0.2352 - val_accuracy: 0.9100\n",
            "Epoch 12/20\n",
            "155/155 [==============================] - 27s 176ms/step - loss: 0.1940 - accuracy: 0.9343 - val_loss: 0.2105 - val_accuracy: 0.9330\n",
            "Epoch 13/20\n",
            "155/155 [==============================] - 27s 177ms/step - loss: 0.1832 - accuracy: 0.9365 - val_loss: 0.1721 - val_accuracy: 0.9385\n",
            "Epoch 14/20\n",
            "155/155 [==============================] - 28s 178ms/step - loss: 0.1468 - accuracy: 0.9473 - val_loss: 0.1738 - val_accuracy: 0.9366\n",
            "Epoch 15/20\n",
            "155/155 [==============================] - 27s 177ms/step - loss: 0.1419 - accuracy: 0.9495 - val_loss: 0.1598 - val_accuracy: 0.9431\n",
            "Epoch 16/20\n",
            "155/155 [==============================] - 27s 177ms/step - loss: 0.1362 - accuracy: 0.9544 - val_loss: 0.2261 - val_accuracy: 0.9284\n",
            "Epoch 17/20\n",
            "155/155 [==============================] - 28s 179ms/step - loss: 0.1333 - accuracy: 0.9556 - val_loss: 0.1409 - val_accuracy: 0.9449\n",
            "Epoch 18/20\n",
            "155/155 [==============================] - 28s 178ms/step - loss: 0.0903 - accuracy: 0.9686 - val_loss: 0.2698 - val_accuracy: 0.9174\n",
            "Epoch 19/20\n",
            "155/155 [==============================] - 28s 178ms/step - loss: 0.1350 - accuracy: 0.9562 - val_loss: 0.1800 - val_accuracy: 0.9486\n",
            "Epoch 20/20\n",
            "155/155 [==============================] - 27s 177ms/step - loss: 0.0785 - accuracy: 0.9751 - val_loss: 0.1271 - val_accuracy: 0.9651\n"
          ]
        }
      ]
    },
    {
      "cell_type": "code",
      "metadata": {
        "id": "S1Ei3fxdQxuE"
      },
      "source": [
        ""
      ],
      "execution_count": null,
      "outputs": []
    }
  ]
}